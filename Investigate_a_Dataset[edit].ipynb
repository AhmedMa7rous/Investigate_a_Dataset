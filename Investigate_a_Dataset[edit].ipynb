{
 "cells": [
  {
   "cell_type": "markdown",
   "id": "e3ffd326",
   "metadata": {},
   "source": [
    "# Project: Investigate a Dataset - [TMDb_Movie_Data]\n",
    ">I will investigate this Dataset by applying Data Analysis Proccess on it using NUMPY, PANDAS, MATPLOTLIB and \n",
    "some useful packages to achieve my investigate.\n",
    "\n",
    "## Table of Contents\n",
    "<ul>\n",
    "<li><a href=\"#intro\">Introduction</a></li>\n",
    "<li><a href=\"#wrangling\">Data Wrangling</a></li>\n",
    "<li><a href=\"#eda\">Exploratory Data Analysis</a></li>\n",
    "<li><a href=\"#conclusions\">Conclusions</a></li>\n",
    "</ul>"
   ]
  },
  {
   "cell_type": "markdown",
   "id": "d8dc45e2",
   "metadata": {},
   "source": [
    "<a id='intro'></a>\n",
    "## Introduction\n",
    "\n",
    "### Dataset Description \n",
    "\n",
    ">This data set contains information about 10,000 movies collected from The Movie Database (TMDb),\n",
    " including user ratings and revenue. [here]( https://www.kaggle.com/tmdb/tmdb-movie-metadata ). \n",
    "\n",
    "\n",
    "### Question(s) for Analysis\n",
    ">Which genres are most popular from year to year?\n",
    "\n",
    ">What kinds of properties are associated with movies that have high revenues?\n",
    "\n",
    ">Which movie achieved the highest revenue and the lowest one?\n",
    "\n",
    ">Which movie achieved the highest or lowest votes?\n",
    "\n",
    ">Which movie cost highest and lowest Budget?\n",
    "\n",
    ">In which year release highest number of movies?\n",
    "\n",
    ">Top 10 movies which achieved highest profits?\n",
    "\n",
    ">Top 10 Production Companies produced higher number of release Movies?\n",
    "\n",
    ">Top 10 Director Who directs highest number of movies movies?\n",
    "\n",
    ">Most popular star cast?\n",
    " "
   ]
  },
  {
   "cell_type": "code",
   "execution_count": 2,
   "id": "544beef2",
   "metadata": {},
   "outputs": [],
   "source": [
    "import numpy as np\n",
    "import pandas as pd\n",
    "import matplotlib.pyplot as plt\n",
    "import datetime\n",
    "import seaborn as sns\n",
    "%matplotlib inline"
   ]
  },
  {
   "cell_type": "markdown",
   "id": "5cdcbb9b",
   "metadata": {},
   "source": [
    "<a id='wrangling'></a>\n",
    "## Data Wrangling\n",
    "\n",
    ">Now I will take a look inside the dataset to check and find out all info I need to begin and dropping unused data.\n",
    "\n",
    "\n",
    "### General Properties\n"
   ]
  },
  {
   "cell_type": "code",
   "execution_count": 4,
   "id": "c4a176a2",
   "metadata": {
    "scrolled": true
   },
   "outputs": [
    {
     "data": {
      "text/html": [
       "<div>\n",
       "<style scoped>\n",
       "    .dataframe tbody tr th:only-of-type {\n",
       "        vertical-align: middle;\n",
       "    }\n",
       "\n",
       "    .dataframe tbody tr th {\n",
       "        vertical-align: top;\n",
       "    }\n",
       "\n",
       "    .dataframe thead th {\n",
       "        text-align: right;\n",
       "    }\n",
       "</style>\n",
       "<table border=\"1\" class=\"dataframe\">\n",
       "  <thead>\n",
       "    <tr style=\"text-align: right;\">\n",
       "      <th></th>\n",
       "      <th>id</th>\n",
       "      <th>imdb_id</th>\n",
       "      <th>popularity</th>\n",
       "      <th>budget</th>\n",
       "      <th>revenue</th>\n",
       "      <th>original_title</th>\n",
       "      <th>cast</th>\n",
       "      <th>homepage</th>\n",
       "      <th>director</th>\n",
       "      <th>tagline</th>\n",
       "      <th>...</th>\n",
       "      <th>overview</th>\n",
       "      <th>runtime</th>\n",
       "      <th>genres</th>\n",
       "      <th>production_companies</th>\n",
       "      <th>release_date</th>\n",
       "      <th>vote_count</th>\n",
       "      <th>vote_average</th>\n",
       "      <th>release_year</th>\n",
       "      <th>budget_adj</th>\n",
       "      <th>revenue_adj</th>\n",
       "    </tr>\n",
       "  </thead>\n",
       "  <tbody>\n",
       "    <tr>\n",
       "      <th>0</th>\n",
       "      <td>135397</td>\n",
       "      <td>tt0369610</td>\n",
       "      <td>32.985763</td>\n",
       "      <td>150000000</td>\n",
       "      <td>1513528810</td>\n",
       "      <td>Jurassic World</td>\n",
       "      <td>Chris Pratt|Bryce Dallas Howard|Irrfan Khan|Vi...</td>\n",
       "      <td>http://www.jurassicworld.com/</td>\n",
       "      <td>Colin Trevorrow</td>\n",
       "      <td>The park is open.</td>\n",
       "      <td>...</td>\n",
       "      <td>Twenty-two years after the events of Jurassic ...</td>\n",
       "      <td>124</td>\n",
       "      <td>Action|Adventure|Science Fiction|Thriller</td>\n",
       "      <td>Universal Studios|Amblin Entertainment|Legenda...</td>\n",
       "      <td>6/9/15</td>\n",
       "      <td>5562</td>\n",
       "      <td>6.5</td>\n",
       "      <td>2015</td>\n",
       "      <td>1.379999e+08</td>\n",
       "      <td>1.392446e+09</td>\n",
       "    </tr>\n",
       "    <tr>\n",
       "      <th>1</th>\n",
       "      <td>76341</td>\n",
       "      <td>tt1392190</td>\n",
       "      <td>28.419936</td>\n",
       "      <td>150000000</td>\n",
       "      <td>378436354</td>\n",
       "      <td>Mad Max: Fury Road</td>\n",
       "      <td>Tom Hardy|Charlize Theron|Hugh Keays-Byrne|Nic...</td>\n",
       "      <td>http://www.madmaxmovie.com/</td>\n",
       "      <td>George Miller</td>\n",
       "      <td>What a Lovely Day.</td>\n",
       "      <td>...</td>\n",
       "      <td>An apocalyptic story set in the furthest reach...</td>\n",
       "      <td>120</td>\n",
       "      <td>Action|Adventure|Science Fiction|Thriller</td>\n",
       "      <td>Village Roadshow Pictures|Kennedy Miller Produ...</td>\n",
       "      <td>5/13/15</td>\n",
       "      <td>6185</td>\n",
       "      <td>7.1</td>\n",
       "      <td>2015</td>\n",
       "      <td>1.379999e+08</td>\n",
       "      <td>3.481613e+08</td>\n",
       "    </tr>\n",
       "    <tr>\n",
       "      <th>2</th>\n",
       "      <td>262500</td>\n",
       "      <td>tt2908446</td>\n",
       "      <td>13.112507</td>\n",
       "      <td>110000000</td>\n",
       "      <td>295238201</td>\n",
       "      <td>Insurgent</td>\n",
       "      <td>Shailene Woodley|Theo James|Kate Winslet|Ansel...</td>\n",
       "      <td>http://www.thedivergentseries.movie/#insurgent</td>\n",
       "      <td>Robert Schwentke</td>\n",
       "      <td>One Choice Can Destroy You</td>\n",
       "      <td>...</td>\n",
       "      <td>Beatrice Prior must confront her inner demons ...</td>\n",
       "      <td>119</td>\n",
       "      <td>Adventure|Science Fiction|Thriller</td>\n",
       "      <td>Summit Entertainment|Mandeville Films|Red Wago...</td>\n",
       "      <td>3/18/15</td>\n",
       "      <td>2480</td>\n",
       "      <td>6.3</td>\n",
       "      <td>2015</td>\n",
       "      <td>1.012000e+08</td>\n",
       "      <td>2.716190e+08</td>\n",
       "    </tr>\n",
       "  </tbody>\n",
       "</table>\n",
       "<p>3 rows × 21 columns</p>\n",
       "</div>"
      ],
      "text/plain": [
       "       id    imdb_id  popularity     budget     revenue      original_title  \\\n",
       "0  135397  tt0369610   32.985763  150000000  1513528810      Jurassic World   \n",
       "1   76341  tt1392190   28.419936  150000000   378436354  Mad Max: Fury Road   \n",
       "2  262500  tt2908446   13.112507  110000000   295238201           Insurgent   \n",
       "\n",
       "                                                cast  \\\n",
       "0  Chris Pratt|Bryce Dallas Howard|Irrfan Khan|Vi...   \n",
       "1  Tom Hardy|Charlize Theron|Hugh Keays-Byrne|Nic...   \n",
       "2  Shailene Woodley|Theo James|Kate Winslet|Ansel...   \n",
       "\n",
       "                                         homepage          director  \\\n",
       "0                   http://www.jurassicworld.com/   Colin Trevorrow   \n",
       "1                     http://www.madmaxmovie.com/     George Miller   \n",
       "2  http://www.thedivergentseries.movie/#insurgent  Robert Schwentke   \n",
       "\n",
       "                      tagline  ...  \\\n",
       "0           The park is open.  ...   \n",
       "1          What a Lovely Day.  ...   \n",
       "2  One Choice Can Destroy You  ...   \n",
       "\n",
       "                                            overview runtime  \\\n",
       "0  Twenty-two years after the events of Jurassic ...     124   \n",
       "1  An apocalyptic story set in the furthest reach...     120   \n",
       "2  Beatrice Prior must confront her inner demons ...     119   \n",
       "\n",
       "                                      genres  \\\n",
       "0  Action|Adventure|Science Fiction|Thriller   \n",
       "1  Action|Adventure|Science Fiction|Thriller   \n",
       "2         Adventure|Science Fiction|Thriller   \n",
       "\n",
       "                                production_companies release_date vote_count  \\\n",
       "0  Universal Studios|Amblin Entertainment|Legenda...       6/9/15       5562   \n",
       "1  Village Roadshow Pictures|Kennedy Miller Produ...      5/13/15       6185   \n",
       "2  Summit Entertainment|Mandeville Films|Red Wago...      3/18/15       2480   \n",
       "\n",
       "   vote_average  release_year    budget_adj   revenue_adj  \n",
       "0           6.5          2015  1.379999e+08  1.392446e+09  \n",
       "1           7.1          2015  1.379999e+08  3.481613e+08  \n",
       "2           6.3          2015  1.012000e+08  2.716190e+08  \n",
       "\n",
       "[3 rows x 21 columns]"
      ]
     },
     "execution_count": 4,
     "metadata": {},
     "output_type": "execute_result"
    }
   ],
   "source": [
    "df = pd.read_csv('tmdb-movies.csv')\n",
    "\n",
    "df.head(3)"
   ]
  },
  {
   "cell_type": "code",
   "execution_count": 5,
   "id": "ce8141db",
   "metadata": {},
   "outputs": [
    {
     "data": {
      "text/html": [
       "<div>\n",
       "<style scoped>\n",
       "    .dataframe tbody tr th:only-of-type {\n",
       "        vertical-align: middle;\n",
       "    }\n",
       "\n",
       "    .dataframe tbody tr th {\n",
       "        vertical-align: top;\n",
       "    }\n",
       "\n",
       "    .dataframe thead th {\n",
       "        text-align: right;\n",
       "    }\n",
       "</style>\n",
       "<table border=\"1\" class=\"dataframe\">\n",
       "  <thead>\n",
       "    <tr style=\"text-align: right;\">\n",
       "      <th></th>\n",
       "      <th>id</th>\n",
       "      <th>imdb_id</th>\n",
       "      <th>popularity</th>\n",
       "      <th>budget</th>\n",
       "      <th>revenue</th>\n",
       "      <th>original_title</th>\n",
       "      <th>cast</th>\n",
       "      <th>homepage</th>\n",
       "      <th>director</th>\n",
       "      <th>tagline</th>\n",
       "      <th>...</th>\n",
       "      <th>overview</th>\n",
       "      <th>runtime</th>\n",
       "      <th>genres</th>\n",
       "      <th>production_companies</th>\n",
       "      <th>release_date</th>\n",
       "      <th>vote_count</th>\n",
       "      <th>vote_average</th>\n",
       "      <th>release_year</th>\n",
       "      <th>budget_adj</th>\n",
       "      <th>revenue_adj</th>\n",
       "    </tr>\n",
       "  </thead>\n",
       "  <tbody>\n",
       "    <tr>\n",
       "      <th>10863</th>\n",
       "      <td>39768</td>\n",
       "      <td>tt0060161</td>\n",
       "      <td>0.065141</td>\n",
       "      <td>0</td>\n",
       "      <td>0</td>\n",
       "      <td>Beregis Avtomobilya</td>\n",
       "      <td>Innokentiy Smoktunovskiy|Oleg Efremov|Georgi Z...</td>\n",
       "      <td>NaN</td>\n",
       "      <td>Eldar Ryazanov</td>\n",
       "      <td>NaN</td>\n",
       "      <td>...</td>\n",
       "      <td>An insurance agent who moonlights as a carthie...</td>\n",
       "      <td>94</td>\n",
       "      <td>Mystery|Comedy</td>\n",
       "      <td>Mosfilm</td>\n",
       "      <td>1/1/66</td>\n",
       "      <td>11</td>\n",
       "      <td>6.5</td>\n",
       "      <td>1966</td>\n",
       "      <td>0.000000</td>\n",
       "      <td>0.0</td>\n",
       "    </tr>\n",
       "    <tr>\n",
       "      <th>10864</th>\n",
       "      <td>21449</td>\n",
       "      <td>tt0061177</td>\n",
       "      <td>0.064317</td>\n",
       "      <td>0</td>\n",
       "      <td>0</td>\n",
       "      <td>What's Up, Tiger Lily?</td>\n",
       "      <td>Tatsuya Mihashi|Akiko Wakabayashi|Mie Hama|Joh...</td>\n",
       "      <td>NaN</td>\n",
       "      <td>Woody Allen</td>\n",
       "      <td>WOODY ALLEN STRIKES BACK!</td>\n",
       "      <td>...</td>\n",
       "      <td>In comic Woody Allen's film debut, he took the...</td>\n",
       "      <td>80</td>\n",
       "      <td>Action|Comedy</td>\n",
       "      <td>Benedict Pictures Corp.</td>\n",
       "      <td>11/2/66</td>\n",
       "      <td>22</td>\n",
       "      <td>5.4</td>\n",
       "      <td>1966</td>\n",
       "      <td>0.000000</td>\n",
       "      <td>0.0</td>\n",
       "    </tr>\n",
       "    <tr>\n",
       "      <th>10865</th>\n",
       "      <td>22293</td>\n",
       "      <td>tt0060666</td>\n",
       "      <td>0.035919</td>\n",
       "      <td>19000</td>\n",
       "      <td>0</td>\n",
       "      <td>Manos: The Hands of Fate</td>\n",
       "      <td>Harold P. Warren|Tom Neyman|John Reynolds|Dian...</td>\n",
       "      <td>NaN</td>\n",
       "      <td>Harold P. Warren</td>\n",
       "      <td>It's Shocking! It's Beyond Your Imagination!</td>\n",
       "      <td>...</td>\n",
       "      <td>A family gets lost on the road and stumbles up...</td>\n",
       "      <td>74</td>\n",
       "      <td>Horror</td>\n",
       "      <td>Norm-Iris</td>\n",
       "      <td>11/15/66</td>\n",
       "      <td>15</td>\n",
       "      <td>1.5</td>\n",
       "      <td>1966</td>\n",
       "      <td>127642.279154</td>\n",
       "      <td>0.0</td>\n",
       "    </tr>\n",
       "  </tbody>\n",
       "</table>\n",
       "<p>3 rows × 21 columns</p>\n",
       "</div>"
      ],
      "text/plain": [
       "          id    imdb_id  popularity  budget  revenue  \\\n",
       "10863  39768  tt0060161    0.065141       0        0   \n",
       "10864  21449  tt0061177    0.064317       0        0   \n",
       "10865  22293  tt0060666    0.035919   19000        0   \n",
       "\n",
       "                 original_title  \\\n",
       "10863       Beregis Avtomobilya   \n",
       "10864    What's Up, Tiger Lily?   \n",
       "10865  Manos: The Hands of Fate   \n",
       "\n",
       "                                                    cast homepage  \\\n",
       "10863  Innokentiy Smoktunovskiy|Oleg Efremov|Georgi Z...      NaN   \n",
       "10864  Tatsuya Mihashi|Akiko Wakabayashi|Mie Hama|Joh...      NaN   \n",
       "10865  Harold P. Warren|Tom Neyman|John Reynolds|Dian...      NaN   \n",
       "\n",
       "               director                                       tagline  ...  \\\n",
       "10863    Eldar Ryazanov                                           NaN  ...   \n",
       "10864       Woody Allen                     WOODY ALLEN STRIKES BACK!  ...   \n",
       "10865  Harold P. Warren  It's Shocking! It's Beyond Your Imagination!  ...   \n",
       "\n",
       "                                                overview runtime  \\\n",
       "10863  An insurance agent who moonlights as a carthie...      94   \n",
       "10864  In comic Woody Allen's film debut, he took the...      80   \n",
       "10865  A family gets lost on the road and stumbles up...      74   \n",
       "\n",
       "               genres     production_companies release_date vote_count  \\\n",
       "10863  Mystery|Comedy                  Mosfilm       1/1/66         11   \n",
       "10864   Action|Comedy  Benedict Pictures Corp.      11/2/66         22   \n",
       "10865          Horror                Norm-Iris     11/15/66         15   \n",
       "\n",
       "       vote_average  release_year     budget_adj  revenue_adj  \n",
       "10863           6.5          1966       0.000000          0.0  \n",
       "10864           5.4          1966       0.000000          0.0  \n",
       "10865           1.5          1966  127642.279154          0.0  \n",
       "\n",
       "[3 rows x 21 columns]"
      ]
     },
     "execution_count": 5,
     "metadata": {},
     "output_type": "execute_result"
    }
   ],
   "source": [
    "df.tail(3)"
   ]
  },
  {
   "cell_type": "code",
   "execution_count": 6,
   "id": "d1ac4b27",
   "metadata": {},
   "outputs": [
    {
     "name": "stdout",
     "output_type": "stream",
     "text": [
      "<class 'pandas.core.frame.DataFrame'>\n",
      "RangeIndex: 10866 entries, 0 to 10865\n",
      "Data columns (total 21 columns):\n",
      " #   Column                Non-Null Count  Dtype  \n",
      "---  ------                --------------  -----  \n",
      " 0   id                    10866 non-null  int64  \n",
      " 1   imdb_id               10856 non-null  object \n",
      " 2   popularity            10866 non-null  float64\n",
      " 3   budget                10866 non-null  int64  \n",
      " 4   revenue               10866 non-null  int64  \n",
      " 5   original_title        10866 non-null  object \n",
      " 6   cast                  10790 non-null  object \n",
      " 7   homepage              2936 non-null   object \n",
      " 8   director              10822 non-null  object \n",
      " 9   tagline               8042 non-null   object \n",
      " 10  keywords              9373 non-null   object \n",
      " 11  overview              10862 non-null  object \n",
      " 12  runtime               10866 non-null  int64  \n",
      " 13  genres                10843 non-null  object \n",
      " 14  production_companies  9836 non-null   object \n",
      " 15  release_date          10866 non-null  object \n",
      " 16  vote_count            10866 non-null  int64  \n",
      " 17  vote_average          10866 non-null  float64\n",
      " 18  release_year          10866 non-null  int64  \n",
      " 19  budget_adj            10866 non-null  float64\n",
      " 20  revenue_adj           10866 non-null  float64\n",
      "dtypes: float64(4), int64(6), object(11)\n",
      "memory usage: 1.7+ MB\n"
     ]
    }
   ],
   "source": [
    "df.info()"
   ]
  },
  {
   "cell_type": "code",
   "execution_count": 7,
   "id": "b62e2663",
   "metadata": {},
   "outputs": [
    {
     "data": {
      "text/plain": [
       "(10866, 21)"
      ]
     },
     "execution_count": 7,
     "metadata": {},
     "output_type": "execute_result"
    }
   ],
   "source": [
    "df.shape"
   ]
  },
  {
   "cell_type": "code",
   "execution_count": 8,
   "id": "5b907133",
   "metadata": {},
   "outputs": [
    {
     "data": {
      "text/html": [
       "<div>\n",
       "<style scoped>\n",
       "    .dataframe tbody tr th:only-of-type {\n",
       "        vertical-align: middle;\n",
       "    }\n",
       "\n",
       "    .dataframe tbody tr th {\n",
       "        vertical-align: top;\n",
       "    }\n",
       "\n",
       "    .dataframe thead th {\n",
       "        text-align: right;\n",
       "    }\n",
       "</style>\n",
       "<table border=\"1\" class=\"dataframe\">\n",
       "  <thead>\n",
       "    <tr style=\"text-align: right;\">\n",
       "      <th></th>\n",
       "      <th>id</th>\n",
       "      <th>popularity</th>\n",
       "      <th>budget</th>\n",
       "      <th>revenue</th>\n",
       "      <th>runtime</th>\n",
       "      <th>vote_count</th>\n",
       "      <th>vote_average</th>\n",
       "      <th>release_year</th>\n",
       "      <th>budget_adj</th>\n",
       "      <th>revenue_adj</th>\n",
       "    </tr>\n",
       "  </thead>\n",
       "  <tbody>\n",
       "    <tr>\n",
       "      <th>count</th>\n",
       "      <td>10866.000000</td>\n",
       "      <td>10866.000000</td>\n",
       "      <td>1.086600e+04</td>\n",
       "      <td>1.086600e+04</td>\n",
       "      <td>10866.000000</td>\n",
       "      <td>10866.000000</td>\n",
       "      <td>10866.000000</td>\n",
       "      <td>10866.000000</td>\n",
       "      <td>1.086600e+04</td>\n",
       "      <td>1.086600e+04</td>\n",
       "    </tr>\n",
       "    <tr>\n",
       "      <th>mean</th>\n",
       "      <td>66064.177434</td>\n",
       "      <td>0.646441</td>\n",
       "      <td>1.462570e+07</td>\n",
       "      <td>3.982332e+07</td>\n",
       "      <td>102.070863</td>\n",
       "      <td>217.389748</td>\n",
       "      <td>5.974922</td>\n",
       "      <td>2001.322658</td>\n",
       "      <td>1.755104e+07</td>\n",
       "      <td>5.136436e+07</td>\n",
       "    </tr>\n",
       "    <tr>\n",
       "      <th>std</th>\n",
       "      <td>92130.136561</td>\n",
       "      <td>1.000185</td>\n",
       "      <td>3.091321e+07</td>\n",
       "      <td>1.170035e+08</td>\n",
       "      <td>31.381405</td>\n",
       "      <td>575.619058</td>\n",
       "      <td>0.935142</td>\n",
       "      <td>12.812941</td>\n",
       "      <td>3.430616e+07</td>\n",
       "      <td>1.446325e+08</td>\n",
       "    </tr>\n",
       "    <tr>\n",
       "      <th>min</th>\n",
       "      <td>5.000000</td>\n",
       "      <td>0.000065</td>\n",
       "      <td>0.000000e+00</td>\n",
       "      <td>0.000000e+00</td>\n",
       "      <td>0.000000</td>\n",
       "      <td>10.000000</td>\n",
       "      <td>1.500000</td>\n",
       "      <td>1960.000000</td>\n",
       "      <td>0.000000e+00</td>\n",
       "      <td>0.000000e+00</td>\n",
       "    </tr>\n",
       "    <tr>\n",
       "      <th>25%</th>\n",
       "      <td>10596.250000</td>\n",
       "      <td>0.207583</td>\n",
       "      <td>0.000000e+00</td>\n",
       "      <td>0.000000e+00</td>\n",
       "      <td>90.000000</td>\n",
       "      <td>17.000000</td>\n",
       "      <td>5.400000</td>\n",
       "      <td>1995.000000</td>\n",
       "      <td>0.000000e+00</td>\n",
       "      <td>0.000000e+00</td>\n",
       "    </tr>\n",
       "    <tr>\n",
       "      <th>50%</th>\n",
       "      <td>20669.000000</td>\n",
       "      <td>0.383856</td>\n",
       "      <td>0.000000e+00</td>\n",
       "      <td>0.000000e+00</td>\n",
       "      <td>99.000000</td>\n",
       "      <td>38.000000</td>\n",
       "      <td>6.000000</td>\n",
       "      <td>2006.000000</td>\n",
       "      <td>0.000000e+00</td>\n",
       "      <td>0.000000e+00</td>\n",
       "    </tr>\n",
       "    <tr>\n",
       "      <th>75%</th>\n",
       "      <td>75610.000000</td>\n",
       "      <td>0.713817</td>\n",
       "      <td>1.500000e+07</td>\n",
       "      <td>2.400000e+07</td>\n",
       "      <td>111.000000</td>\n",
       "      <td>145.750000</td>\n",
       "      <td>6.600000</td>\n",
       "      <td>2011.000000</td>\n",
       "      <td>2.085325e+07</td>\n",
       "      <td>3.369710e+07</td>\n",
       "    </tr>\n",
       "    <tr>\n",
       "      <th>max</th>\n",
       "      <td>417859.000000</td>\n",
       "      <td>32.985763</td>\n",
       "      <td>4.250000e+08</td>\n",
       "      <td>2.781506e+09</td>\n",
       "      <td>900.000000</td>\n",
       "      <td>9767.000000</td>\n",
       "      <td>9.200000</td>\n",
       "      <td>2015.000000</td>\n",
       "      <td>4.250000e+08</td>\n",
       "      <td>2.827124e+09</td>\n",
       "    </tr>\n",
       "  </tbody>\n",
       "</table>\n",
       "</div>"
      ],
      "text/plain": [
       "                  id    popularity        budget       revenue       runtime  \\\n",
       "count   10866.000000  10866.000000  1.086600e+04  1.086600e+04  10866.000000   \n",
       "mean    66064.177434      0.646441  1.462570e+07  3.982332e+07    102.070863   \n",
       "std     92130.136561      1.000185  3.091321e+07  1.170035e+08     31.381405   \n",
       "min         5.000000      0.000065  0.000000e+00  0.000000e+00      0.000000   \n",
       "25%     10596.250000      0.207583  0.000000e+00  0.000000e+00     90.000000   \n",
       "50%     20669.000000      0.383856  0.000000e+00  0.000000e+00     99.000000   \n",
       "75%     75610.000000      0.713817  1.500000e+07  2.400000e+07    111.000000   \n",
       "max    417859.000000     32.985763  4.250000e+08  2.781506e+09    900.000000   \n",
       "\n",
       "         vote_count  vote_average  release_year    budget_adj   revenue_adj  \n",
       "count  10866.000000  10866.000000  10866.000000  1.086600e+04  1.086600e+04  \n",
       "mean     217.389748      5.974922   2001.322658  1.755104e+07  5.136436e+07  \n",
       "std      575.619058      0.935142     12.812941  3.430616e+07  1.446325e+08  \n",
       "min       10.000000      1.500000   1960.000000  0.000000e+00  0.000000e+00  \n",
       "25%       17.000000      5.400000   1995.000000  0.000000e+00  0.000000e+00  \n",
       "50%       38.000000      6.000000   2006.000000  0.000000e+00  0.000000e+00  \n",
       "75%      145.750000      6.600000   2011.000000  2.085325e+07  3.369710e+07  \n",
       "max     9767.000000      9.200000   2015.000000  4.250000e+08  2.827124e+09  "
      ]
     },
     "execution_count": 8,
     "metadata": {},
     "output_type": "execute_result"
    }
   ],
   "source": [
    "df.describe()"
   ]
  },
  {
   "cell_type": "code",
   "execution_count": 9,
   "id": "c312403b",
   "metadata": {},
   "outputs": [
    {
     "data": {
      "text/plain": [
       "id                         0\n",
       "imdb_id                   10\n",
       "popularity                 0\n",
       "budget                     0\n",
       "revenue                    0\n",
       "original_title             0\n",
       "cast                      76\n",
       "homepage                7930\n",
       "director                  44\n",
       "tagline                 2824\n",
       "keywords                1493\n",
       "overview                   4\n",
       "runtime                    0\n",
       "genres                    23\n",
       "production_companies    1030\n",
       "release_date               0\n",
       "vote_count                 0\n",
       "vote_average               0\n",
       "release_year               0\n",
       "budget_adj                 0\n",
       "revenue_adj                0\n",
       "dtype: int64"
      ]
     },
     "execution_count": 9,
     "metadata": {},
     "output_type": "execute_result"
    }
   ],
   "source": [
    "df.isnull().sum()"
   ]
  },
  {
   "cell_type": "markdown",
   "id": "aef5d17e",
   "metadata": {},
   "source": [
    "After check the Dataset I find out that it contains:\n",
    "\n",
    ">     Number of Rows = 10866.\n",
    ">     Number of Columns = 21.\n",
    ">     Some columns contain NaN values.\n",
    ">     Some columns's values is count of money but it's 0 value and there's no currency: \n",
    ">            I will use dolar as currency.\n",
    ">     Some of the nan values is in String dtype so:\n",
    ">            I will use fill nan values with zero. \n",
    "         "
   ]
  },
  {
   "cell_type": "code",
   "execution_count": 10,
   "id": "7812d1b5",
   "metadata": {},
   "outputs": [],
   "source": [
    "df = df.fillna(0)"
   ]
  },
  {
   "cell_type": "markdown",
   "id": "151fbae6",
   "metadata": {},
   "source": [
    "\n",
    "### Data Cleaning\n",
    "\n",
    ">  Drop Duplicate rows.\n",
    "\n",
    ">  Remove unuseble data.\n",
    "\n",
    ">  Cahnge type of release date column to datetime.\n",
    "\n",
    ">  Remove items having zero value of budget and revenue."
   ]
  },
  {
   "cell_type": "markdown",
   "id": "a3785a36",
   "metadata": {},
   "source": [
    "##### 1. duplicated():\n",
    "> function in pandas return the duplicate row as True and othter as False for counting the duplicate elements we sum all   the rows.\n"
   ]
  },
  {
   "cell_type": "code",
   "execution_count": 11,
   "id": "80879c43",
   "metadata": {},
   "outputs": [
    {
     "data": {
      "text/plain": [
       "1"
      ]
     },
     "execution_count": 11,
     "metadata": {},
     "output_type": "execute_result"
    }
   ],
   "source": [
    "sum(df.duplicated())"
   ]
  },
  {
   "cell_type": "markdown",
   "id": "10444398",
   "metadata": {},
   "source": [
    "After calculating the duplicate row we can drop these row using 'drop_duplicates()' function"
   ]
  },
  {
   "cell_type": "code",
   "execution_count": 12,
   "id": "9a63e40e",
   "metadata": {},
   "outputs": [],
   "source": [
    "#drop duplicates\n",
    "df.drop_duplicates(inplace = True)"
   ]
  },
  {
   "cell_type": "code",
   "execution_count": 13,
   "id": "35ef039e",
   "metadata": {
    "scrolled": true
   },
   "outputs": [
    {
     "data": {
      "text/plain": [
       "(10865, 21)"
      ]
     },
     "execution_count": 13,
     "metadata": {},
     "output_type": "execute_result"
    }
   ],
   "source": [
    "#after dropping\n",
    "df.shape"
   ]
  },
  {
   "cell_type": "markdown",
   "id": "a3b63329",
   "metadata": {},
   "source": [
    "##### 2. Remove the unused colums that are not needes in the analysis process\n",
    "We can see that 21 columns in the dataset, We can drop the the colums which are not usable in the data analysis process. columns like: imdb_id,overview etc.\n",
    "The columns like imdb_id, homepage,tagline, overview, budget_adj and revenue_adj are not required for my analysis and I will drop these columns."
   ]
  },
  {
   "cell_type": "code",
   "execution_count": 14,
   "id": "8abc642e",
   "metadata": {},
   "outputs": [],
   "source": [
    "#remove unuseable data\n",
    "df.drop(['imdb_id','homepage','tagline','overview','budget_adj','revenue_adj'],axis =1,inplace = True)"
   ]
  },
  {
   "cell_type": "code",
   "execution_count": 20,
   "id": "380dbd8b",
   "metadata": {},
   "outputs": [
    {
     "data": {
      "text/plain": [
       "(10865, 15)"
      ]
     },
     "execution_count": 20,
     "metadata": {},
     "output_type": "execute_result"
    }
   ],
   "source": [
    "#after remove\n",
    "df.shape"
   ]
  },
  {
   "cell_type": "markdown",
   "id": "29ad5c6e",
   "metadata": {},
   "source": [
    "##### 3. Changing Format Of Release Date Into Datetime Format\n",
    "the the given in the dataset is in string format.\n",
    "So we need to change this in datetime format"
   ]
  },
  {
   "cell_type": "code",
   "execution_count": 21,
   "id": "298e7b69",
   "metadata": {},
   "outputs": [
    {
     "data": {
      "text/plain": [
       "0   2015-06-09\n",
       "1   2015-05-13\n",
       "2   2015-03-18\n",
       "3   2015-12-15\n",
       "4   2015-04-01\n",
       "Name: release_date, dtype: datetime64[ns]"
      ]
     },
     "execution_count": 21,
     "metadata": {},
     "output_type": "execute_result"
    }
   ],
   "source": [
    "df['release_date']=pd.to_datetime(df['release_date'])\n",
    "df['release_date'].head()"
   ]
  },
  {
   "cell_type": "markdown",
   "id": "19234c5b",
   "metadata": {},
   "source": [
    "##### 4. Drop theses rows which contain incorrect or inappropriate values.\n",
    "\n",
    "As you can see in this database of movies there are lots of movies where the budget or revenue have a value of '0' which means that the values of those variables of those movies has not been recorded. Calculating the profits of these movies would lead to inappropriate results. I think this may be due to varying factors like the lack of information, or the movies that were never released. I have chosen to eradicate these values during the data cleaning phase."
   ]
  },
  {
   "cell_type": "code",
   "execution_count": 22,
   "id": "8030127d",
   "metadata": {},
   "outputs": [
    {
     "data": {
      "text/plain": [
       "6016"
      ]
     },
     "execution_count": 22,
     "metadata": {},
     "output_type": "execute_result"
    }
   ],
   "source": [
    "#removing zero values in the budget and revenue columns\n",
    "df[(df['budget']==0)].shape[0]\n",
    "df[(df['revenue']==0)].shape[0]"
   ]
  },
  {
   "cell_type": "code",
   "execution_count": 23,
   "id": "c5056e5d",
   "metadata": {
    "scrolled": true
   },
   "outputs": [
    {
     "data": {
      "text/plain": [
       "id                      0\n",
       "popularity              0\n",
       "budget                  0\n",
       "revenue                 0\n",
       "original_title          0\n",
       "cast                    0\n",
       "director                0\n",
       "keywords                0\n",
       "runtime                 0\n",
       "genres                  0\n",
       "production_companies    0\n",
       "release_date            0\n",
       "vote_count              0\n",
       "vote_average            0\n",
       "release_year            0\n",
       "dtype: int64"
      ]
     },
     "execution_count": 23,
     "metadata": {},
     "output_type": "execute_result"
    }
   ],
   "source": [
    "df.isnull().sum()"
   ]
  },
  {
   "cell_type": "markdown",
   "id": "ae980fd0",
   "metadata": {},
   "source": [
    "<a id='eda'></a>\n",
    "## Exploratory Data Analysis\n",
    "\n",
    "> Now that we've trimmed and cleaned our data, we're ready to move on to exploration. **Compute statistics** and **create visualizations** with the goal of addressing the research questions that I posed in the Introduction section.\n",
    "\n",
    "\n",
    "## Research Question 1:: Which genres are most popular from year to year?"
   ]
  },
  {
   "cell_type": "markdown",
   "id": "171ecb30",
   "metadata": {},
   "source": [
    "map all the rows of genres in a list."
   ]
  },
  {
   "cell_type": "code",
   "execution_count": 77,
   "id": "dd789725",
   "metadata": {},
   "outputs": [],
   "source": [
    "genre_details = list(map(str,(new_df['genres'])))"
   ]
  },
  {
   "cell_type": "markdown",
   "id": "7fcbc15a",
   "metadata": {},
   "source": [
    "make an array that contain genres without any seperator."
   ]
  },
  {
   "cell_type": "code",
   "execution_count": 78,
   "id": "913bc0a4",
   "metadata": {},
   "outputs": [],
   "source": [
    "genre = ['Adventure', 'Science Fiction', 'Fantasy', 'Crime', 'Western', 'Family','nan', 'Animation','War','Mystery','Romance','TV Movie','Action', 'Thriller','Comedy','Drama' , 'History', 'Music', 'Horror', 'Documentary', 'Foreign']"
   ]
  },
  {
   "cell_type": "markdown",
   "id": "6c172c28",
   "metadata": {},
   "source": [
    "make the numpy array of year and popularity which contain all the rows of release_year and popularity column."
   ]
  },
  {
   "cell_type": "code",
   "execution_count": 79,
   "id": "97be1ba7",
   "metadata": {},
   "outputs": [],
   "source": [
    "year = np.array(df['release_year'])\n",
    "popularity = np.array(df['popularity'])"
   ]
  },
  {
   "cell_type": "markdown",
   "id": "b7d703e1",
   "metadata": {},
   "source": [
    "make a null dataframe which indexs are genres and columns are years."
   ]
  },
  {
   "cell_type": "code",
   "execution_count": 80,
   "id": "6b3537c7",
   "metadata": {},
   "outputs": [],
   "source": [
    "popularity_df = pd.DataFrame(index = genre, columns = range(1960, 2016))"
   ]
  },
  {
   "cell_type": "markdown",
   "id": "2cf5e432",
   "metadata": {},
   "source": [
    "change all the values of the dataframe from NAN to zero."
   ]
  },
  {
   "cell_type": "code",
   "execution_count": 81,
   "id": "77144024",
   "metadata": {},
   "outputs": [],
   "source": [
    "popularity_df = popularity_df.fillna(value = 0.0)"
   ]
  },
  {
   "cell_type": "markdown",
   "id": "2cd2cc60",
   "metadata": {},
   "source": [
    "Make a dataframe for popularity"
   ]
  },
  {
   "cell_type": "code",
   "execution_count": 82,
   "id": "09059407",
   "metadata": {},
   "outputs": [],
   "source": [
    "z = 0\n",
    "for i in genre_details:\n",
    "    if i == '0':\n",
    "        z+=1\n",
    "        continue\n",
    "    else:\n",
    "        split_genre = list(map(str,i.split('|')))\n",
    "        popularity_df.loc[split_genre, year[z]] = popularity_df.loc[split_genre, year[z]] + popularity[z]\n",
    "        z+=1"
   ]
  },
  {
   "cell_type": "markdown",
   "id": "f76ab977",
   "metadata": {},
   "source": [
    "create function to calculate the standard deviation for the accurate results."
   ]
  },
  {
   "cell_type": "code",
   "execution_count": 83,
   "id": "6c571d33",
   "metadata": {},
   "outputs": [
    {
     "data": {
      "text/html": [
       "<div>\n",
       "<style scoped>\n",
       "    .dataframe tbody tr th:only-of-type {\n",
       "        vertical-align: middle;\n",
       "    }\n",
       "\n",
       "    .dataframe tbody tr th {\n",
       "        vertical-align: top;\n",
       "    }\n",
       "\n",
       "    .dataframe thead th {\n",
       "        text-align: right;\n",
       "    }\n",
       "</style>\n",
       "<table border=\"1\" class=\"dataframe\">\n",
       "  <thead>\n",
       "    <tr style=\"text-align: right;\">\n",
       "      <th></th>\n",
       "      <th>1960</th>\n",
       "      <th>1961</th>\n",
       "      <th>1962</th>\n",
       "      <th>1963</th>\n",
       "      <th>1964</th>\n",
       "      <th>1965</th>\n",
       "      <th>1966</th>\n",
       "      <th>1967</th>\n",
       "      <th>1968</th>\n",
       "      <th>1969</th>\n",
       "      <th>...</th>\n",
       "      <th>2006</th>\n",
       "      <th>2007</th>\n",
       "      <th>2008</th>\n",
       "      <th>2009</th>\n",
       "      <th>2010</th>\n",
       "      <th>2011</th>\n",
       "      <th>2012</th>\n",
       "      <th>2013</th>\n",
       "      <th>2014</th>\n",
       "      <th>2015</th>\n",
       "    </tr>\n",
       "  </thead>\n",
       "  <tbody>\n",
       "    <tr>\n",
       "      <th>Adventure</th>\n",
       "      <td>0.753047</td>\n",
       "      <td>1.338265</td>\n",
       "      <td>1.996432</td>\n",
       "      <td>1.398764</td>\n",
       "      <td>0.550490</td>\n",
       "      <td>1.124313</td>\n",
       "      <td>0.951448</td>\n",
       "      <td>1.817532</td>\n",
       "      <td>1.534066</td>\n",
       "      <td>1.097634</td>\n",
       "      <td>...</td>\n",
       "      <td>0.608896</td>\n",
       "      <td>0.520337</td>\n",
       "      <td>0.755174</td>\n",
       "      <td>0.977631</td>\n",
       "      <td>1.034615</td>\n",
       "      <td>0.586530</td>\n",
       "      <td>0.732544</td>\n",
       "      <td>0.755614</td>\n",
       "      <td>1.174404</td>\n",
       "      <td>1.614642</td>\n",
       "    </tr>\n",
       "    <tr>\n",
       "      <th>Science Fiction</th>\n",
       "      <td>-0.467064</td>\n",
       "      <td>-0.361952</td>\n",
       "      <td>-0.640003</td>\n",
       "      <td>-0.646572</td>\n",
       "      <td>-0.667888</td>\n",
       "      <td>-0.869288</td>\n",
       "      <td>0.097082</td>\n",
       "      <td>-0.634089</td>\n",
       "      <td>1.452081</td>\n",
       "      <td>-0.710447</td>\n",
       "      <td>...</td>\n",
       "      <td>-0.285369</td>\n",
       "      <td>-0.305635</td>\n",
       "      <td>0.082638</td>\n",
       "      <td>0.679385</td>\n",
       "      <td>-0.104055</td>\n",
       "      <td>0.212188</td>\n",
       "      <td>0.190799</td>\n",
       "      <td>0.575286</td>\n",
       "      <td>0.902144</td>\n",
       "      <td>1.231916</td>\n",
       "    </tr>\n",
       "    <tr>\n",
       "      <th>Fantasy</th>\n",
       "      <td>-0.528631</td>\n",
       "      <td>-0.744050</td>\n",
       "      <td>-0.691929</td>\n",
       "      <td>-0.895883</td>\n",
       "      <td>-0.012691</td>\n",
       "      <td>-0.992961</td>\n",
       "      <td>-0.585750</td>\n",
       "      <td>-0.706100</td>\n",
       "      <td>-0.055098</td>\n",
       "      <td>-0.771756</td>\n",
       "      <td>...</td>\n",
       "      <td>0.064256</td>\n",
       "      <td>0.322410</td>\n",
       "      <td>0.008939</td>\n",
       "      <td>0.178692</td>\n",
       "      <td>0.153667</td>\n",
       "      <td>0.028812</td>\n",
       "      <td>0.082090</td>\n",
       "      <td>-0.182319</td>\n",
       "      <td>-0.108114</td>\n",
       "      <td>-0.320226</td>\n",
       "    </tr>\n",
       "    <tr>\n",
       "      <th>Crime</th>\n",
       "      <td>-0.607773</td>\n",
       "      <td>-0.111525</td>\n",
       "      <td>-0.192078</td>\n",
       "      <td>-0.020849</td>\n",
       "      <td>0.082887</td>\n",
       "      <td>-0.523188</td>\n",
       "      <td>-0.034184</td>\n",
       "      <td>0.517043</td>\n",
       "      <td>0.209143</td>\n",
       "      <td>0.593035</td>\n",
       "      <td>...</td>\n",
       "      <td>0.085715</td>\n",
       "      <td>0.302191</td>\n",
       "      <td>0.298436</td>\n",
       "      <td>-0.394756</td>\n",
       "      <td>-0.170911</td>\n",
       "      <td>-0.059809</td>\n",
       "      <td>0.093366</td>\n",
       "      <td>0.347619</td>\n",
       "      <td>-0.219150</td>\n",
       "      <td>0.027460</td>\n",
       "    </tr>\n",
       "    <tr>\n",
       "      <th>Western</th>\n",
       "      <td>0.705451</td>\n",
       "      <td>-0.588007</td>\n",
       "      <td>-0.266409</td>\n",
       "      <td>-0.863575</td>\n",
       "      <td>-1.009777</td>\n",
       "      <td>-0.527569</td>\n",
       "      <td>-0.028313</td>\n",
       "      <td>-0.775331</td>\n",
       "      <td>-0.824684</td>\n",
       "      <td>0.996730</td>\n",
       "      <td>...</td>\n",
       "      <td>-1.032584</td>\n",
       "      <td>-1.024569</td>\n",
       "      <td>-1.057870</td>\n",
       "      <td>-1.110691</td>\n",
       "      <td>-0.973921</td>\n",
       "      <td>-0.992158</td>\n",
       "      <td>-0.866364</td>\n",
       "      <td>-0.973786</td>\n",
       "      <td>-0.925491</td>\n",
       "      <td>-0.758947</td>\n",
       "    </tr>\n",
       "  </tbody>\n",
       "</table>\n",
       "<p>5 rows × 56 columns</p>\n",
       "</div>"
      ],
      "text/plain": [
       "                     1960      1961      1962      1963      1964      1965  \\\n",
       "Adventure        0.753047  1.338265  1.996432  1.398764  0.550490  1.124313   \n",
       "Science Fiction -0.467064 -0.361952 -0.640003 -0.646572 -0.667888 -0.869288   \n",
       "Fantasy         -0.528631 -0.744050 -0.691929 -0.895883 -0.012691 -0.992961   \n",
       "Crime           -0.607773 -0.111525 -0.192078 -0.020849  0.082887 -0.523188   \n",
       "Western          0.705451 -0.588007 -0.266409 -0.863575 -1.009777 -0.527569   \n",
       "\n",
       "                     1966      1967      1968      1969  ...      2006  \\\n",
       "Adventure        0.951448  1.817532  1.534066  1.097634  ...  0.608896   \n",
       "Science Fiction  0.097082 -0.634089  1.452081 -0.710447  ... -0.285369   \n",
       "Fantasy         -0.585750 -0.706100 -0.055098 -0.771756  ...  0.064256   \n",
       "Crime           -0.034184  0.517043  0.209143  0.593035  ...  0.085715   \n",
       "Western         -0.028313 -0.775331 -0.824684  0.996730  ... -1.032584   \n",
       "\n",
       "                     2007      2008      2009      2010      2011      2012  \\\n",
       "Adventure        0.520337  0.755174  0.977631  1.034615  0.586530  0.732544   \n",
       "Science Fiction -0.305635  0.082638  0.679385 -0.104055  0.212188  0.190799   \n",
       "Fantasy          0.322410  0.008939  0.178692  0.153667  0.028812  0.082090   \n",
       "Crime            0.302191  0.298436 -0.394756 -0.170911 -0.059809  0.093366   \n",
       "Western         -1.024569 -1.057870 -1.110691 -0.973921 -0.992158 -0.866364   \n",
       "\n",
       "                     2013      2014      2015  \n",
       "Adventure        0.755614  1.174404  1.614642  \n",
       "Science Fiction  0.575286  0.902144  1.231916  \n",
       "Fantasy         -0.182319 -0.108114 -0.320226  \n",
       "Crime            0.347619 -0.219150  0.027460  \n",
       "Western         -0.973786 -0.925491 -0.758947  \n",
       "\n",
       "[5 rows x 56 columns]"
      ]
     },
     "execution_count": 83,
     "metadata": {},
     "output_type": "execute_result"
    }
   ],
   "source": [
    "def calculate_std(x):\n",
    "    return (x-x.mean())/x.std(ddof=0)\n",
    "\n",
    "popular_genre = calculate_std(popularity_df)\n",
    "popular_genre.head()"
   ]
  },
  {
   "cell_type": "markdown",
   "id": "dfcaa865",
   "metadata": {
    "scrolled": false
   },
   "source": [
    "plot the barh plot of the standardised data."
   ]
  },
  {
   "cell_type": "code",
   "execution_count": 84,
   "id": "ca20d8e3",
   "metadata": {},
   "outputs": [
    {
     "data": {
      "image/png": "[encoded data removed]",
      "text/plain": [
       "<Figure size 1080x432 with 1 Axes>"
      ]
     },
     "metadata": {},
     "output_type": "display_data"
    }
   ],
   "source": [
    "popular_genre.iloc[10:,53:].plot(kind='barh',figsize = (15,6),fontsize=13)\n",
    "\n",
    "#setup the title and labels of the plot.\n",
    "plt.title(\"Most Popular Genre Over Year To Year\",fontsize=15)\n",
    "plt.xlabel(\"Popularity (Standerd Units)\",fontsize=14)\n",
    "plt.ylabel(\"Genres\",fontsize = 14)\n",
    "sns.set_style(\"whitegrid\")"
   ]
  },
  {
   "cell_type": "markdown",
   "id": "e4da32d8",
   "metadata": {},
   "source": [
    ">>From this we findout that Drama is the most popular genre, following by action, comedy and thriller."
   ]
  },
  {
   "cell_type": "markdown",
   "id": "92b5e98e",
   "metadata": {},
   "source": [
    "### Research Question 2:: What kinds of properties are associated with movies that have high revenues?"
   ]
  },
  {
   "cell_type": "code",
   "execution_count": 24,
   "id": "e214371f",
   "metadata": {},
   "outputs": [
    {
     "data": {
      "text/html": [
       "<div>\n",
       "<style scoped>\n",
       "    .dataframe tbody tr th:only-of-type {\n",
       "        vertical-align: middle;\n",
       "    }\n",
       "\n",
       "    .dataframe tbody tr th {\n",
       "        vertical-align: top;\n",
       "    }\n",
       "\n",
       "    .dataframe thead th {\n",
       "        text-align: right;\n",
       "    }\n",
       "</style>\n",
       "<table border=\"1\" class=\"dataframe\">\n",
       "  <thead>\n",
       "    <tr style=\"text-align: right;\">\n",
       "      <th></th>\n",
       "      <th>revenue</th>\n",
       "      <th>id</th>\n",
       "      <th>popularity</th>\n",
       "      <th>budget</th>\n",
       "      <th>original_title</th>\n",
       "      <th>cast</th>\n",
       "      <th>director</th>\n",
       "      <th>runtime</th>\n",
       "      <th>genres</th>\n",
       "      <th>vote_average</th>\n",
       "      <th>release_year</th>\n",
       "    </tr>\n",
       "  </thead>\n",
       "  <tbody>\n",
       "    <tr>\n",
       "      <th>1386</th>\n",
       "      <td>2781505847</td>\n",
       "      <td>19995</td>\n",
       "      <td>9.432768</td>\n",
       "      <td>237000000</td>\n",
       "      <td>Avatar</td>\n",
       "      <td>Sam Worthington|Zoe Saldana|Sigourney Weaver|S...</td>\n",
       "      <td>James Cameron</td>\n",
       "      <td>162</td>\n",
       "      <td>Action|Adventure|Fantasy|Science Fiction</td>\n",
       "      <td>7.1</td>\n",
       "      <td>2009</td>\n",
       "    </tr>\n",
       "    <tr>\n",
       "      <th>3</th>\n",
       "      <td>2068178225</td>\n",
       "      <td>140607</td>\n",
       "      <td>11.173104</td>\n",
       "      <td>200000000</td>\n",
       "      <td>Star Wars: The Force Awakens</td>\n",
       "      <td>Harrison Ford|Mark Hamill|Carrie Fisher|Adam D...</td>\n",
       "      <td>J.J. Abrams</td>\n",
       "      <td>136</td>\n",
       "      <td>Action|Adventure|Science Fiction|Fantasy</td>\n",
       "      <td>7.5</td>\n",
       "      <td>2015</td>\n",
       "    </tr>\n",
       "    <tr>\n",
       "      <th>5231</th>\n",
       "      <td>1845034188</td>\n",
       "      <td>597</td>\n",
       "      <td>4.355219</td>\n",
       "      <td>200000000</td>\n",
       "      <td>Titanic</td>\n",
       "      <td>Kate Winslet|Leonardo DiCaprio|Frances Fisher|...</td>\n",
       "      <td>James Cameron</td>\n",
       "      <td>194</td>\n",
       "      <td>Drama|Romance|Thriller</td>\n",
       "      <td>7.3</td>\n",
       "      <td>1997</td>\n",
       "    </tr>\n",
       "  </tbody>\n",
       "</table>\n",
       "</div>"
      ],
      "text/plain": [
       "         revenue      id  popularity     budget                original_title  \\\n",
       "1386  2781505847   19995    9.432768  237000000                        Avatar   \n",
       "3     2068178225  140607   11.173104  200000000  Star Wars: The Force Awakens   \n",
       "5231  1845034188     597    4.355219  200000000                       Titanic   \n",
       "\n",
       "                                                   cast       director  \\\n",
       "1386  Sam Worthington|Zoe Saldana|Sigourney Weaver|S...  James Cameron   \n",
       "3     Harrison Ford|Mark Hamill|Carrie Fisher|Adam D...    J.J. Abrams   \n",
       "5231  Kate Winslet|Leonardo DiCaprio|Frances Fisher|...  James Cameron   \n",
       "\n",
       "      runtime                                    genres  vote_average  \\\n",
       "1386      162  Action|Adventure|Fantasy|Science Fiction           7.1   \n",
       "3         136  Action|Adventure|Science Fiction|Fantasy           7.5   \n",
       "5231      194                    Drama|Romance|Thriller           7.3   \n",
       "\n",
       "      release_year  \n",
       "1386          2009  \n",
       "3             2015  \n",
       "5231          1997  "
      ]
     },
     "execution_count": 24,
     "metadata": {},
     "output_type": "execute_result"
    }
   ],
   "source": [
    "details = pd.DataFrame(df['revenue'].sort_values(ascending=False))\n",
    "another_data_set = ['id','popularity','budget','original_title','cast','director','runtime','genres','vote_average','release_year']\n",
    "for i in another_data_set:\n",
    "    details[i] = df[i]\n",
    "\n",
    "details.head(3)"
   ]
  },
  {
   "cell_type": "code",
   "execution_count": 25,
   "id": "f186a791",
   "metadata": {},
   "outputs": [
    {
     "data": {
      "image/png": "[encoded data removed]",
      "text/plain": [
       "<Figure size 1080x864 with 4 Axes>"
      ]
     },
     "metadata": {
      "needs_background": "light"
     },
     "output_type": "display_data"
    }
   ],
   "source": [
    "fig, axes = plt.subplots(2,2,figsize = (15,12))\n",
    "fig.suptitle(\"Revenue Vs Budget,Popularity&&Vote Average&&Runtime\")\n",
    "sns.regplot(x=df['revenue'], y=df['budget'],color='c',ax=axes[0][0])\n",
    "sns.regplot(x=df['revenue'], y=df['popularity'],color='c',ax=axes[0][1])\n",
    "sns.regplot(x=df['revenue'], y=df['vote_average'],color='c',ax=axes[1][0])\n",
    "sns.regplot(x=df['revenue'], y=df['runtime'],color='c',ax=axes[1][1])\n",
    "sns.set_style(\"whitegrid\")"
   ]
  },
  {
   "cell_type": "code",
   "execution_count": 26,
   "id": "a927ca6f",
   "metadata": {},
   "outputs": [],
   "source": [
    "def plot_correlation_map( DF ):\n",
    "    corr = DF.corr()\n",
    "    _ , ax = plt.subplots( figsize =( 12 , 10 ) )\n",
    "    cmap = sns.diverging_palette( 240 , 10 , as_cmap = True )\n",
    "    _ = sns.heatmap(corr,cmap = cmap,square=True, cbar_kws={ 'shrink' : .9 }, ax=ax, annot = True, annot_kws = { 'fontsize' : 12 })"
   ]
  },
  {
   "cell_type": "code",
   "execution_count": 27,
   "id": "d0b55ebe",
   "metadata": {},
   "outputs": [
    {
     "data": {
      "image/png": "[encoded data removed]",
      "text/plain": [
       "<Figure size 864x720 with 2 Axes>"
      ]
     },
     "metadata": {},
     "output_type": "display_data"
    }
   ],
   "source": [
    "plot_correlation_map(df[['popularity','budget','revenue','runtime','vote_count','vote_average']])"
   ]
  },
  {
   "cell_type": "markdown",
   "id": "7ec2642b",
   "metadata": {},
   "source": [
    "A description of the above plots,\n",
    "\n",
    "###### Plot 1: Budget vs Revenue\n",
    "\n",
    "The revenues increase slightly at higher levels but the number of movies with high budgets seem scarce. There is a good possibility that movies with higher investments result in better revenues.\n",
    "\n",
    "<li>Correlation = 0.68</li>\n",
    "I can't find a relationship here. The revenues don't seem to change with higher vote average.\n",
    "\n",
    "\n",
    "###### Plot 2: Popularity vs Revenue\n",
    "\n",
    "The revenue seems to be increasing with popularity. We can say that if the popularity of movie is high then the revenue of the movie may be high.\n",
    "\n",
    "<li>Correlation = 0.62</li>\n",
    "\n",
    "\n",
    "###### Plot 3: Vote Average vs Revenue\n",
    "\n",
    "The correlation between revenue and vote average is 0.2069. So vote average is not highly related to the revenue.\n",
    "\n",
    "\n",
    "###### Plot 4: Runtime vs Revenue\n",
    "\n",
    "The correlation between revenue and runtime is 0.2378. So runtime is not highly related to the revenue."
   ]
  },
  {
   "cell_type": "markdown",
   "id": "ae871409",
   "metadata": {},
   "source": [
    "## Research Question 3:: Top 5 movies which achieved the highest revenue and the lowest one?"
   ]
  },
  {
   "cell_type": "markdown",
   "id": "7c7b1422",
   "metadata": {},
   "source": [
    "create function to find out the highest and the lowest by using the function 'idmin' and 'idmax' "
   ]
  },
  {
   "cell_type": "code",
   "execution_count": 28,
   "id": "e33fc591",
   "metadata": {},
   "outputs": [],
   "source": [
    "def find_minmax(x):\n",
    "    min_index = df[x].idxmin() \n",
    "    max_index = df[x].idxmax()\n",
    "    highest = pd.DataFrame(df.loc[max_index,:])\n",
    "    lowest = pd.DataFrame(df.loc[min_index,:])\n",
    "    print(\"Movie Which Has Highest \"+ x + \" : \",df['original_title'][max_index])\n",
    "    print(\"Movie Which Has Lowest \"+ x + \"  : \",df['original_title'][min_index])\n",
    "    return pd.concat([highest,lowest],axis = 1)"
   ]
  },
  {
   "cell_type": "code",
   "execution_count": 29,
   "id": "a0616ff6",
   "metadata": {},
   "outputs": [
    {
     "name": "stdout",
     "output_type": "stream",
     "text": [
      "Movie Which Has Highest revenue :  Avatar\n",
      "Movie Which Has Lowest revenue  :  Wild Card\n"
     ]
    },
    {
     "data": {
      "text/html": [
       "<div>\n",
       "<style scoped>\n",
       "    .dataframe tbody tr th:only-of-type {\n",
       "        vertical-align: middle;\n",
       "    }\n",
       "\n",
       "    .dataframe tbody tr th {\n",
       "        vertical-align: top;\n",
       "    }\n",
       "\n",
       "    .dataframe thead th {\n",
       "        text-align: right;\n",
       "    }\n",
       "</style>\n",
       "<table border=\"1\" class=\"dataframe\">\n",
       "  <thead>\n",
       "    <tr style=\"text-align: right;\">\n",
       "      <th></th>\n",
       "      <th>1386</th>\n",
       "      <th>48</th>\n",
       "    </tr>\n",
       "  </thead>\n",
       "  <tbody>\n",
       "    <tr>\n",
       "      <th>id</th>\n",
       "      <td>19995</td>\n",
       "      <td>265208</td>\n",
       "    </tr>\n",
       "    <tr>\n",
       "      <th>popularity</th>\n",
       "      <td>9.432768</td>\n",
       "      <td>2.93234</td>\n",
       "    </tr>\n",
       "    <tr>\n",
       "      <th>budget</th>\n",
       "      <td>237000000</td>\n",
       "      <td>30000000</td>\n",
       "    </tr>\n",
       "    <tr>\n",
       "      <th>revenue</th>\n",
       "      <td>2781505847</td>\n",
       "      <td>0</td>\n",
       "    </tr>\n",
       "    <tr>\n",
       "      <th>original_title</th>\n",
       "      <td>Avatar</td>\n",
       "      <td>Wild Card</td>\n",
       "    </tr>\n",
       "    <tr>\n",
       "      <th>cast</th>\n",
       "      <td>Sam Worthington|Zoe Saldana|Sigourney Weaver|S...</td>\n",
       "      <td>Jason Statham|Michael Angarano|Milo Ventimigli...</td>\n",
       "    </tr>\n",
       "    <tr>\n",
       "      <th>director</th>\n",
       "      <td>James Cameron</td>\n",
       "      <td>Simon West</td>\n",
       "    </tr>\n",
       "    <tr>\n",
       "      <th>keywords</th>\n",
       "      <td>culture clash|future|space war|space colony|so...</td>\n",
       "      <td>gambling|bodyguard|remake</td>\n",
       "    </tr>\n",
       "    <tr>\n",
       "      <th>runtime</th>\n",
       "      <td>162</td>\n",
       "      <td>92</td>\n",
       "    </tr>\n",
       "    <tr>\n",
       "      <th>genres</th>\n",
       "      <td>Action|Adventure|Fantasy|Science Fiction</td>\n",
       "      <td>Thriller|Crime|Drama</td>\n",
       "    </tr>\n",
       "    <tr>\n",
       "      <th>production_companies</th>\n",
       "      <td>Ingenious Film Partners|Twentieth Century Fox ...</td>\n",
       "      <td>Current Entertainment|Lionsgate|Sierra / Affin...</td>\n",
       "    </tr>\n",
       "    <tr>\n",
       "      <th>release_date</th>\n",
       "      <td>2009-12-10 00:00:00</td>\n",
       "      <td>2015-01-14 00:00:00</td>\n",
       "    </tr>\n",
       "    <tr>\n",
       "      <th>vote_count</th>\n",
       "      <td>8458</td>\n",
       "      <td>481</td>\n",
       "    </tr>\n",
       "    <tr>\n",
       "      <th>vote_average</th>\n",
       "      <td>7.1</td>\n",
       "      <td>5.3</td>\n",
       "    </tr>\n",
       "    <tr>\n",
       "      <th>release_year</th>\n",
       "      <td>2009</td>\n",
       "      <td>2015</td>\n",
       "    </tr>\n",
       "  </tbody>\n",
       "</table>\n",
       "</div>"
      ],
      "text/plain": [
       "                                                                   1386  \\\n",
       "id                                                                19995   \n",
       "popularity                                                     9.432768   \n",
       "budget                                                        237000000   \n",
       "revenue                                                      2781505847   \n",
       "original_title                                                   Avatar   \n",
       "cast                  Sam Worthington|Zoe Saldana|Sigourney Weaver|S...   \n",
       "director                                                  James Cameron   \n",
       "keywords              culture clash|future|space war|space colony|so...   \n",
       "runtime                                                             162   \n",
       "genres                         Action|Adventure|Fantasy|Science Fiction   \n",
       "production_companies  Ingenious Film Partners|Twentieth Century Fox ...   \n",
       "release_date                                        2009-12-10 00:00:00   \n",
       "vote_count                                                         8458   \n",
       "vote_average                                                        7.1   \n",
       "release_year                                                       2009   \n",
       "\n",
       "                                                                   48    \n",
       "id                                                               265208  \n",
       "popularity                                                      2.93234  \n",
       "budget                                                         30000000  \n",
       "revenue                                                               0  \n",
       "original_title                                                Wild Card  \n",
       "cast                  Jason Statham|Michael Angarano|Milo Ventimigli...  \n",
       "director                                                     Simon West  \n",
       "keywords                                      gambling|bodyguard|remake  \n",
       "runtime                                                              92  \n",
       "genres                                             Thriller|Crime|Drama  \n",
       "production_companies  Current Entertainment|Lionsgate|Sierra / Affin...  \n",
       "release_date                                        2015-01-14 00:00:00  \n",
       "vote_count                                                          481  \n",
       "vote_average                                                        5.3  \n",
       "release_year                                                       2015  "
      ]
     },
     "execution_count": 29,
     "metadata": {},
     "output_type": "execute_result"
    }
   ],
   "source": [
    "find_minmax('revenue')"
   ]
  },
  {
   "cell_type": "markdown",
   "id": "1472c692",
   "metadata": {},
   "source": [
    ">The first column shows the highest revenue made by a movie and second column shows the lowest revenue movie in this dataset. As we can see that 'Avatar' movie Directed by James Cameron made the highest revenue in all, making over 2.78B revenue in this dataset. And the movie which made lowest revenue is 'Wild Card' directed by Simon West."
   ]
  },
  {
   "cell_type": "markdown",
   "id": "b8e22d64",
   "metadata": {},
   "source": [
    "find top 5 movies which made highest revenue."
   ]
  },
  {
   "cell_type": "code",
   "execution_count": 30,
   "id": "f2f053b0",
   "metadata": {},
   "outputs": [],
   "source": [
    "details = pd.DataFrame(df['revenue'].sort_values(ascending = False))\n",
    "details['original_title'] = df['original_title']\n",
    "data = list(map(str,(details['original_title'])))"
   ]
  },
  {
   "cell_type": "markdown",
   "id": "f3ce79ec",
   "metadata": {},
   "source": [
    "extract the top 5 movies with high revenue data from the list and dataframe."
   ]
  },
  {
   "cell_type": "code",
   "execution_count": 31,
   "id": "b91ba653",
   "metadata": {},
   "outputs": [],
   "source": [
    "x = list(data[:5])\n",
    "y = list(details['revenue'][:5])"
   ]
  },
  {
   "cell_type": "markdown",
   "id": "5b8d265a",
   "metadata": {},
   "source": [
    "make the point plot and setup the title and labels."
   ]
  },
  {
   "cell_type": "code",
   "execution_count": 32,
   "id": "d3562a56",
   "metadata": {},
   "outputs": [
    {
     "data": {
      "image/png": "[encoded data removed]",
      "text/plain": [
       "<Figure size 432x288 with 1 Axes>"
      ]
     },
     "metadata": {},
     "output_type": "display_data"
    }
   ],
   "source": [
    "ax = sns.pointplot(x=y,y=x)\n",
    "sns.set(rc={'figure.figsize':(10,5)})\n",
    "ax.set_title(\"Top 5 High Revenue Movies\",fontsize = 15)\n",
    "ax.set_xlabel(\"Revenue\",fontsize = 13)\n",
    "sns.set_style(\"darkgrid\")"
   ]
  },
  {
   "cell_type": "markdown",
   "id": "e1aac574",
   "metadata": {},
   "source": [
    "## Research Question 4:: Top 5 movies which  achieved the highest or lowest votes?"
   ]
  },
  {
   "cell_type": "markdown",
   "id": "4d3a6dce",
   "metadata": {},
   "source": [
    "use 'find_minmax' function which i made earlier by passsing 'Vote_average' as argument to find the movie with most and least votes."
   ]
  },
  {
   "cell_type": "code",
   "execution_count": 33,
   "id": "7d3b0e41",
   "metadata": {},
   "outputs": [
    {
     "name": "stdout",
     "output_type": "stream",
     "text": [
      "Movie Which Has Highest vote_average :  The Story of Film: An Odyssey\n",
      "Movie Which Has Lowest vote_average  :  Transmorphers\n"
     ]
    },
    {
     "data": {
      "text/html": [
       "<div>\n",
       "<style scoped>\n",
       "    .dataframe tbody tr th:only-of-type {\n",
       "        vertical-align: middle;\n",
       "    }\n",
       "\n",
       "    .dataframe tbody tr th {\n",
       "        vertical-align: top;\n",
       "    }\n",
       "\n",
       "    .dataframe thead th {\n",
       "        text-align: right;\n",
       "    }\n",
       "</style>\n",
       "<table border=\"1\" class=\"dataframe\">\n",
       "  <thead>\n",
       "    <tr style=\"text-align: right;\">\n",
       "      <th></th>\n",
       "      <th>3894</th>\n",
       "      <th>7772</th>\n",
       "    </tr>\n",
       "  </thead>\n",
       "  <tbody>\n",
       "    <tr>\n",
       "      <th>id</th>\n",
       "      <td>125336</td>\n",
       "      <td>25055</td>\n",
       "    </tr>\n",
       "    <tr>\n",
       "      <th>popularity</th>\n",
       "      <td>0.006925</td>\n",
       "      <td>0.12112</td>\n",
       "    </tr>\n",
       "    <tr>\n",
       "      <th>budget</th>\n",
       "      <td>0</td>\n",
       "      <td>0</td>\n",
       "    </tr>\n",
       "    <tr>\n",
       "      <th>revenue</th>\n",
       "      <td>0</td>\n",
       "      <td>0</td>\n",
       "    </tr>\n",
       "    <tr>\n",
       "      <th>original_title</th>\n",
       "      <td>The Story of Film: An Odyssey</td>\n",
       "      <td>Transmorphers</td>\n",
       "    </tr>\n",
       "    <tr>\n",
       "      <th>cast</th>\n",
       "      <td>Mark Cousins|Jean-Michel Frodon|Cari Beauchamp...</td>\n",
       "      <td>Matthew Wolf|Amy Weber|Shaley Scott|Eliza Swen...</td>\n",
       "    </tr>\n",
       "    <tr>\n",
       "      <th>director</th>\n",
       "      <td>Mark Cousins</td>\n",
       "      <td>Leigh Scott</td>\n",
       "    </tr>\n",
       "    <tr>\n",
       "      <th>keywords</th>\n",
       "      <td>cinema|nouvelle vague|hindi cinema|cinema novo...</td>\n",
       "      <td>futuristic</td>\n",
       "    </tr>\n",
       "    <tr>\n",
       "      <th>runtime</th>\n",
       "      <td>900</td>\n",
       "      <td>86</td>\n",
       "    </tr>\n",
       "    <tr>\n",
       "      <th>genres</th>\n",
       "      <td>Documentary</td>\n",
       "      <td>Action|Adventure|Science Fiction</td>\n",
       "    </tr>\n",
       "    <tr>\n",
       "      <th>production_companies</th>\n",
       "      <td>0</td>\n",
       "      <td>Asylum, The</td>\n",
       "    </tr>\n",
       "    <tr>\n",
       "      <th>release_date</th>\n",
       "      <td>2011-09-03 00:00:00</td>\n",
       "      <td>2007-06-26 00:00:00</td>\n",
       "    </tr>\n",
       "    <tr>\n",
       "      <th>vote_count</th>\n",
       "      <td>14</td>\n",
       "      <td>10</td>\n",
       "    </tr>\n",
       "    <tr>\n",
       "      <th>vote_average</th>\n",
       "      <td>9.2</td>\n",
       "      <td>1.5</td>\n",
       "    </tr>\n",
       "    <tr>\n",
       "      <th>release_year</th>\n",
       "      <td>2011</td>\n",
       "      <td>2007</td>\n",
       "    </tr>\n",
       "  </tbody>\n",
       "</table>\n",
       "</div>"
      ],
      "text/plain": [
       "                                                                   3894  \\\n",
       "id                                                               125336   \n",
       "popularity                                                     0.006925   \n",
       "budget                                                                0   \n",
       "revenue                                                               0   \n",
       "original_title                            The Story of Film: An Odyssey   \n",
       "cast                  Mark Cousins|Jean-Michel Frodon|Cari Beauchamp...   \n",
       "director                                                   Mark Cousins   \n",
       "keywords              cinema|nouvelle vague|hindi cinema|cinema novo...   \n",
       "runtime                                                             900   \n",
       "genres                                                      Documentary   \n",
       "production_companies                                                  0   \n",
       "release_date                                        2011-09-03 00:00:00   \n",
       "vote_count                                                           14   \n",
       "vote_average                                                        9.2   \n",
       "release_year                                                       2011   \n",
       "\n",
       "                                                                   7772  \n",
       "id                                                                25055  \n",
       "popularity                                                      0.12112  \n",
       "budget                                                                0  \n",
       "revenue                                                               0  \n",
       "original_title                                            Transmorphers  \n",
       "cast                  Matthew Wolf|Amy Weber|Shaley Scott|Eliza Swen...  \n",
       "director                                                    Leigh Scott  \n",
       "keywords                                                     futuristic  \n",
       "runtime                                                              86  \n",
       "genres                                 Action|Adventure|Science Fiction  \n",
       "production_companies                                        Asylum, The  \n",
       "release_date                                        2007-06-26 00:00:00  \n",
       "vote_count                                                           10  \n",
       "vote_average                                                        1.5  \n",
       "release_year                                                       2007  "
      ]
     },
     "execution_count": 33,
     "metadata": {},
     "output_type": "execute_result"
    }
   ],
   "source": [
    "find_minmax('vote_average')"
   ]
  },
  {
   "cell_type": "markdown",
   "id": "1993eaba",
   "metadata": {},
   "source": [
    ">The first column containt the movie with highest votes and second column contain the movie with lowest votes.\n",
    "As we can see that movie 'The Story of Film: An Odyssey' has the maximum rating (92%), which was directed by Mark Cousins and movie with lowest user ratings is 'Transmorphers' with 15% user ratings, which was directed by Leigh Scott."
   ]
  },
  {
   "cell_type": "markdown",
   "id": "f0dfe986",
   "metadata": {},
   "source": [
    "find top 5 movies which made highest vote by sort the 'vote_average' column in decending order and store it in the new dataframe."
   ]
  },
  {
   "cell_type": "code",
   "execution_count": 34,
   "id": "c0127b19",
   "metadata": {},
   "outputs": [],
   "source": [
    "details = pd.DataFrame(df['vote_average'].sort_values(ascending = False))\n",
    "details['original_title'] = df['original_title']\n",
    "data = list(map(str,(details['original_title'])))"
   ]
  },
  {
   "cell_type": "markdown",
   "id": "a34567a2",
   "metadata": {},
   "source": [
    "extract the top 5 highly rated movies data from the list and dataframe."
   ]
  },
  {
   "cell_type": "code",
   "execution_count": 35,
   "id": "5dc6a998",
   "metadata": {},
   "outputs": [],
   "source": [
    "x = list(data[:5])\n",
    "y = list(details['vote_average'][:5])"
   ]
  },
  {
   "cell_type": "markdown",
   "id": "ddec3ff2",
   "metadata": {},
   "source": [
    "make the point plot and setup the title and labels."
   ]
  },
  {
   "cell_type": "code",
   "execution_count": 36,
   "id": "efdf6b53",
   "metadata": {},
   "outputs": [
    {
     "data": {
      "image/png": "[encoded data removed]",
      "text/plain": [
       "<Figure size 720x360 with 1 Axes>"
      ]
     },
     "metadata": {},
     "output_type": "display_data"
    }
   ],
   "source": [
    "ax = sns.pointplot(x=y,y=x)\n",
    "sns.set(rc={'figure.figsize':(10,5)})\n",
    "ax.set_title(\"Top 5 Highest Rated Movies\",fontsize = 15)\n",
    "ax.set_xlabel(\"Vote Average\",fontsize = 13)\n",
    "sns.set_style(\"darkgrid\")"
   ]
  },
  {
   "cell_type": "markdown",
   "id": "bfe4c5fa",
   "metadata": {},
   "source": [
    "## Research Question 5::  Top 5 movies which cost highest and lowest Budget?"
   ]
  },
  {
   "cell_type": "markdown",
   "id": "9fd59324",
   "metadata": {},
   "source": [
    "first make sure that movie with budget zero didn't affect the result by change the zero into NAN in budget column."
   ]
  },
  {
   "cell_type": "code",
   "execution_count": 37,
   "id": "47d3c4ae",
   "metadata": {},
   "outputs": [],
   "source": [
    "df['budget'] = df['budget'].replace(0,np.NAN)"
   ]
  },
  {
   "cell_type": "markdown",
   "id": "82dc4de6",
   "metadata": {},
   "source": [
    "find the movie with most and least budget."
   ]
  },
  {
   "cell_type": "code",
   "execution_count": 38,
   "id": "cce0a3ef",
   "metadata": {},
   "outputs": [
    {
     "name": "stdout",
     "output_type": "stream",
     "text": [
      "Movie Which Has Highest budget :  The Warrior's Way\n",
      "Movie Which Has Lowest budget  :  Fear Clinic\n"
     ]
    },
    {
     "data": {
      "text/html": [
       "<div>\n",
       "<style scoped>\n",
       "    .dataframe tbody tr th:only-of-type {\n",
       "        vertical-align: middle;\n",
       "    }\n",
       "\n",
       "    .dataframe tbody tr th {\n",
       "        vertical-align: top;\n",
       "    }\n",
       "\n",
       "    .dataframe thead th {\n",
       "        text-align: right;\n",
       "    }\n",
       "</style>\n",
       "<table border=\"1\" class=\"dataframe\">\n",
       "  <thead>\n",
       "    <tr style=\"text-align: right;\">\n",
       "      <th></th>\n",
       "      <th>2244</th>\n",
       "      <th>1151</th>\n",
       "    </tr>\n",
       "  </thead>\n",
       "  <tbody>\n",
       "    <tr>\n",
       "      <th>id</th>\n",
       "      <td>46528</td>\n",
       "      <td>287524</td>\n",
       "    </tr>\n",
       "    <tr>\n",
       "      <th>popularity</th>\n",
       "      <td>0.25054</td>\n",
       "      <td>0.177102</td>\n",
       "    </tr>\n",
       "    <tr>\n",
       "      <th>budget</th>\n",
       "      <td>425000000.0</td>\n",
       "      <td>1.0</td>\n",
       "    </tr>\n",
       "    <tr>\n",
       "      <th>revenue</th>\n",
       "      <td>11087569</td>\n",
       "      <td>0</td>\n",
       "    </tr>\n",
       "    <tr>\n",
       "      <th>original_title</th>\n",
       "      <td>The Warrior's Way</td>\n",
       "      <td>Fear Clinic</td>\n",
       "    </tr>\n",
       "    <tr>\n",
       "      <th>cast</th>\n",
       "      <td>Kate Bosworth|Jang Dong-gun|Geoffrey Rush|Dann...</td>\n",
       "      <td>Thomas Dekker|Robert Englund|Cleopatra Coleman...</td>\n",
       "    </tr>\n",
       "    <tr>\n",
       "      <th>director</th>\n",
       "      <td>Sngmoo Lee</td>\n",
       "      <td>Robert Hall</td>\n",
       "    </tr>\n",
       "    <tr>\n",
       "      <th>keywords</th>\n",
       "      <td>assassin|small town|revenge|deception|super speed</td>\n",
       "      <td>phobia|doctor|fear</td>\n",
       "    </tr>\n",
       "    <tr>\n",
       "      <th>runtime</th>\n",
       "      <td>100</td>\n",
       "      <td>95</td>\n",
       "    </tr>\n",
       "    <tr>\n",
       "      <th>genres</th>\n",
       "      <td>Adventure|Fantasy|Action|Western|Thriller</td>\n",
       "      <td>Horror</td>\n",
       "    </tr>\n",
       "    <tr>\n",
       "      <th>production_companies</th>\n",
       "      <td>Boram Entertainment Inc.</td>\n",
       "      <td>Dry County Films|Anchor Bay Entertainment|Movi...</td>\n",
       "    </tr>\n",
       "    <tr>\n",
       "      <th>release_date</th>\n",
       "      <td>2010-12-02 00:00:00</td>\n",
       "      <td>2014-10-31 00:00:00</td>\n",
       "    </tr>\n",
       "    <tr>\n",
       "      <th>vote_count</th>\n",
       "      <td>74</td>\n",
       "      <td>15</td>\n",
       "    </tr>\n",
       "    <tr>\n",
       "      <th>vote_average</th>\n",
       "      <td>6.4</td>\n",
       "      <td>4.1</td>\n",
       "    </tr>\n",
       "    <tr>\n",
       "      <th>release_year</th>\n",
       "      <td>2010</td>\n",
       "      <td>2014</td>\n",
       "    </tr>\n",
       "  </tbody>\n",
       "</table>\n",
       "</div>"
      ],
      "text/plain": [
       "                                                                   2244  \\\n",
       "id                                                                46528   \n",
       "popularity                                                      0.25054   \n",
       "budget                                                      425000000.0   \n",
       "revenue                                                        11087569   \n",
       "original_title                                        The Warrior's Way   \n",
       "cast                  Kate Bosworth|Jang Dong-gun|Geoffrey Rush|Dann...   \n",
       "director                                                     Sngmoo Lee   \n",
       "keywords              assassin|small town|revenge|deception|super speed   \n",
       "runtime                                                             100   \n",
       "genres                        Adventure|Fantasy|Action|Western|Thriller   \n",
       "production_companies                           Boram Entertainment Inc.   \n",
       "release_date                                        2010-12-02 00:00:00   \n",
       "vote_count                                                           74   \n",
       "vote_average                                                        6.4   \n",
       "release_year                                                       2010   \n",
       "\n",
       "                                                                   1151  \n",
       "id                                                               287524  \n",
       "popularity                                                     0.177102  \n",
       "budget                                                              1.0  \n",
       "revenue                                                               0  \n",
       "original_title                                              Fear Clinic  \n",
       "cast                  Thomas Dekker|Robert Englund|Cleopatra Coleman...  \n",
       "director                                                    Robert Hall  \n",
       "keywords                                             phobia|doctor|fear  \n",
       "runtime                                                              95  \n",
       "genres                                                           Horror  \n",
       "production_companies  Dry County Films|Anchor Bay Entertainment|Movi...  \n",
       "release_date                                        2014-10-31 00:00:00  \n",
       "vote_count                                                           15  \n",
       "vote_average                                                        4.1  \n",
       "release_year                                                       2014  "
      ]
     },
     "execution_count": 38,
     "metadata": {},
     "output_type": "execute_result"
    }
   ],
   "source": [
    "find_minmax('budget')"
   ]
  },
  {
   "cell_type": "markdown",
   "id": "5b59b217",
   "metadata": {},
   "source": [
    "sort the 'budget' column in decending order and store it in the new dataframe."
   ]
  },
  {
   "cell_type": "code",
   "execution_count": 39,
   "id": "48ecfc51",
   "metadata": {},
   "outputs": [],
   "source": [
    "details = pd.DataFrame(df['budget'].sort_values(ascending = False))\n",
    "details['original_title'] = df['original_title']\n",
    "data = list(map(str,(details['original_title'])))"
   ]
  },
  {
   "cell_type": "markdown",
   "id": "821f194c",
   "metadata": {},
   "source": [
    "extract the top 5 budget movies data from the list and dataframe."
   ]
  },
  {
   "cell_type": "code",
   "execution_count": 40,
   "id": "592cfa4e",
   "metadata": {},
   "outputs": [],
   "source": [
    "x = list(data[:5])\n",
    "y = list(details['budget'][:5])"
   ]
  },
  {
   "cell_type": "markdown",
   "id": "b1ce7820",
   "metadata": {},
   "source": [
    "plot the figure and setup the title and labels."
   ]
  },
  {
   "cell_type": "code",
   "execution_count": 41,
   "id": "560d7138",
   "metadata": {},
   "outputs": [
    {
     "data": {
      "image/png": "[encoded data removed]",
      "text/plain": [
       "<Figure size 720x360 with 1 Axes>"
      ]
     },
     "metadata": {},
     "output_type": "display_data"
    }
   ],
   "source": [
    "ax = sns.pointplot(x=y,y=x)\n",
    "sns.set(rc={'figure.figsize':(10, 5)})\n",
    "ax.set_title(\"Top 10 High Budget Movies\",fontsize = 15)\n",
    "ax.set_xlabel(\"Budget\",fontsize = 13)\n",
    "sns.set_style(\"darkgrid\")"
   ]
  },
  {
   "cell_type": "markdown",
   "id": "064b14f2",
   "metadata": {},
   "source": [
    "## Research Question 6:: In which year release highest number of movies?"
   ]
  },
  {
   "cell_type": "markdown",
   "id": "6d3efc47",
   "metadata": {},
   "source": [
    "\n",
    "\n",
    "make group for each year and count the number of movies in each year"
   ]
  },
  {
   "cell_type": "code",
   "execution_count": 42,
   "id": "399ed9db",
   "metadata": {},
   "outputs": [
    {
     "data": {
      "text/plain": [
       "release_year\n",
       "2011    540\n",
       "2012    588\n",
       "2013    659\n",
       "2014    700\n",
       "2015    629\n",
       "Name: id, dtype: int64"
      ]
     },
     "execution_count": 42,
     "metadata": {},
     "output_type": "execute_result"
    }
   ],
   "source": [
    "data=df.groupby('release_year').count()['id']\n",
    "data.tail()"
   ]
  },
  {
   "cell_type": "markdown",
   "id": "d8c099da",
   "metadata": {},
   "source": [
    "\n",
    "\n",
    "make group of the data according to release year and count total number of movies in each year and plot it."
   ]
  },
  {
   "cell_type": "code",
   "execution_count": 45,
   "id": "0b692cf2",
   "metadata": {
    "scrolled": false
   },
   "outputs": [
    {
     "data": {
      "image/png": "[encoded data removed]",
      "text/plain": [
       "<Figure size 720x360 with 1 Axes>"
      ]
     },
     "metadata": {},
     "output_type": "display_data"
    }
   ],
   "source": [
    "df.groupby('release_year').count()['id'].plot(xticks = np.arange(1960,2016,5))\n",
    "\n",
    "#set the figure size, labels and style sheet\n",
    "sns.set(rc={'figure.figsize':(10,5)})\n",
    "plt.title(\"Year Vs Number Of Movies\",fontsize = 14)\n",
    "plt.xlabel('Release year',fontsize = 13)\n",
    "plt.ylabel('Number Of Movies',fontsize = 13) \n",
    "sns.set_style(\"whitegrid\")"
   ]
  },
  {
   "cell_type": "markdown",
   "id": "ba0153d4",
   "metadata": {},
   "source": []
  },
  {
   "cell_type": "markdown",
   "id": "0674e435",
   "metadata": {},
   "source": [
    "\n",
    "\n",
    "\n",
    "\n",
    "\n",
    "\n",
    "\n",
    "\n",
    "###### After Seeing the plot and the output we can conclude that year 2014 year has the highest release of movies (700) followed by year 2013 (659) and year 2015 (629)."
   ]
  },
  {
   "cell_type": "markdown",
   "id": "d3fa2886",
   "metadata": {},
   "source": [
    "## Research Question 7:: Top 5 movies which achieved highest or lowest profits?"
   ]
  },
  {
   "cell_type": "markdown",
   "id": "288f468b",
   "metadata": {},
   "source": [
    "calculate Profit for each of the movie:\n",
    ">add a new column in the dataframe name 'Profit'"
   ]
  },
  {
   "cell_type": "code",
   "execution_count": 46,
   "id": "f7b44c9a",
   "metadata": {},
   "outputs": [],
   "source": [
    "df['Profit'] = df['revenue'] - df['budget']"
   ]
  },
  {
   "cell_type": "markdown",
   "id": "8638b85e",
   "metadata": {},
   "source": [
    ">find the highest and lowest profit by using my function 'find_minmax'"
   ]
  },
  {
   "cell_type": "code",
   "execution_count": 47,
   "id": "10c25dc1",
   "metadata": {},
   "outputs": [
    {
     "name": "stdout",
     "output_type": "stream",
     "text": [
      "Movie Which Has Highest Profit :  Avatar\n",
      "Movie Which Has Lowest Profit  :  The Warrior's Way\n"
     ]
    },
    {
     "data": {
      "text/html": [
       "<div>\n",
       "<style scoped>\n",
       "    .dataframe tbody tr th:only-of-type {\n",
       "        vertical-align: middle;\n",
       "    }\n",
       "\n",
       "    .dataframe tbody tr th {\n",
       "        vertical-align: top;\n",
       "    }\n",
       "\n",
       "    .dataframe thead th {\n",
       "        text-align: right;\n",
       "    }\n",
       "</style>\n",
       "<table border=\"1\" class=\"dataframe\">\n",
       "  <thead>\n",
       "    <tr style=\"text-align: right;\">\n",
       "      <th></th>\n",
       "      <th>1386</th>\n",
       "      <th>2244</th>\n",
       "    </tr>\n",
       "  </thead>\n",
       "  <tbody>\n",
       "    <tr>\n",
       "      <th>id</th>\n",
       "      <td>19995</td>\n",
       "      <td>46528</td>\n",
       "    </tr>\n",
       "    <tr>\n",
       "      <th>popularity</th>\n",
       "      <td>9.432768</td>\n",
       "      <td>0.25054</td>\n",
       "    </tr>\n",
       "    <tr>\n",
       "      <th>budget</th>\n",
       "      <td>237000000.0</td>\n",
       "      <td>425000000.0</td>\n",
       "    </tr>\n",
       "    <tr>\n",
       "      <th>revenue</th>\n",
       "      <td>2781505847</td>\n",
       "      <td>11087569</td>\n",
       "    </tr>\n",
       "    <tr>\n",
       "      <th>original_title</th>\n",
       "      <td>Avatar</td>\n",
       "      <td>The Warrior's Way</td>\n",
       "    </tr>\n",
       "    <tr>\n",
       "      <th>cast</th>\n",
       "      <td>Sam Worthington|Zoe Saldana|Sigourney Weaver|S...</td>\n",
       "      <td>Kate Bosworth|Jang Dong-gun|Geoffrey Rush|Dann...</td>\n",
       "    </tr>\n",
       "    <tr>\n",
       "      <th>director</th>\n",
       "      <td>James Cameron</td>\n",
       "      <td>Sngmoo Lee</td>\n",
       "    </tr>\n",
       "    <tr>\n",
       "      <th>keywords</th>\n",
       "      <td>culture clash|future|space war|space colony|so...</td>\n",
       "      <td>assassin|small town|revenge|deception|super speed</td>\n",
       "    </tr>\n",
       "    <tr>\n",
       "      <th>runtime</th>\n",
       "      <td>162</td>\n",
       "      <td>100</td>\n",
       "    </tr>\n",
       "    <tr>\n",
       "      <th>genres</th>\n",
       "      <td>Action|Adventure|Fantasy|Science Fiction</td>\n",
       "      <td>Adventure|Fantasy|Action|Western|Thriller</td>\n",
       "    </tr>\n",
       "    <tr>\n",
       "      <th>production_companies</th>\n",
       "      <td>Ingenious Film Partners|Twentieth Century Fox ...</td>\n",
       "      <td>Boram Entertainment Inc.</td>\n",
       "    </tr>\n",
       "    <tr>\n",
       "      <th>release_date</th>\n",
       "      <td>2009-12-10 00:00:00</td>\n",
       "      <td>2010-12-02 00:00:00</td>\n",
       "    </tr>\n",
       "    <tr>\n",
       "      <th>vote_count</th>\n",
       "      <td>8458</td>\n",
       "      <td>74</td>\n",
       "    </tr>\n",
       "    <tr>\n",
       "      <th>vote_average</th>\n",
       "      <td>7.1</td>\n",
       "      <td>6.4</td>\n",
       "    </tr>\n",
       "    <tr>\n",
       "      <th>release_year</th>\n",
       "      <td>2009</td>\n",
       "      <td>2010</td>\n",
       "    </tr>\n",
       "    <tr>\n",
       "      <th>Profit</th>\n",
       "      <td>2544505847.0</td>\n",
       "      <td>-413912431.0</td>\n",
       "    </tr>\n",
       "  </tbody>\n",
       "</table>\n",
       "</div>"
      ],
      "text/plain": [
       "                                                                   1386  \\\n",
       "id                                                                19995   \n",
       "popularity                                                     9.432768   \n",
       "budget                                                      237000000.0   \n",
       "revenue                                                      2781505847   \n",
       "original_title                                                   Avatar   \n",
       "cast                  Sam Worthington|Zoe Saldana|Sigourney Weaver|S...   \n",
       "director                                                  James Cameron   \n",
       "keywords              culture clash|future|space war|space colony|so...   \n",
       "runtime                                                             162   \n",
       "genres                         Action|Adventure|Fantasy|Science Fiction   \n",
       "production_companies  Ingenious Film Partners|Twentieth Century Fox ...   \n",
       "release_date                                        2009-12-10 00:00:00   \n",
       "vote_count                                                         8458   \n",
       "vote_average                                                        7.1   \n",
       "release_year                                                       2009   \n",
       "Profit                                                     2544505847.0   \n",
       "\n",
       "                                                                   2244  \n",
       "id                                                                46528  \n",
       "popularity                                                      0.25054  \n",
       "budget                                                      425000000.0  \n",
       "revenue                                                        11087569  \n",
       "original_title                                        The Warrior's Way  \n",
       "cast                  Kate Bosworth|Jang Dong-gun|Geoffrey Rush|Dann...  \n",
       "director                                                     Sngmoo Lee  \n",
       "keywords              assassin|small town|revenge|deception|super speed  \n",
       "runtime                                                             100  \n",
       "genres                        Adventure|Fantasy|Action|Western|Thriller  \n",
       "production_companies                           Boram Entertainment Inc.  \n",
       "release_date                                        2010-12-02 00:00:00  \n",
       "vote_count                                                           74  \n",
       "vote_average                                                        6.4  \n",
       "release_year                                                       2010  \n",
       "Profit                                                     -413912431.0  "
      ]
     },
     "execution_count": 47,
     "metadata": {},
     "output_type": "execute_result"
    }
   ],
   "source": [
    "find_minmax('Profit')"
   ]
  },
  {
   "cell_type": "markdown",
   "id": "482a3ba4",
   "metadata": {},
   "source": [
    ">>The first column shows the highest profit made by a movie and second column shows the highest in loss movie in this dataset.\n",
    "\n",
    ">>As we can see that 'Avatar' movie Directed by James Cameron earn the highest profit in all, making over 2.5B in profit in this dataset.And the most in loss movie in this dataset is The Warrior's Way. Going in loss by more than 400M was directed by Singmoo Lee."
   ]
  },
  {
   "cell_type": "markdown",
   "id": "ad68c7e9",
   "metadata": {},
   "source": [
    "sort the 'Profit' column in decending order and store it in the new dataframe."
   ]
  },
  {
   "cell_type": "code",
   "execution_count": 48,
   "id": "97a29e7a",
   "metadata": {},
   "outputs": [],
   "source": [
    "details = pd.DataFrame(df['Profit'].sort_values(ascending = False))\n",
    "details['original_title'] = df['original_title']\n",
    "data = list(map(str,(details['original_title'])))"
   ]
  },
  {
   "cell_type": "markdown",
   "id": "f4d03b97",
   "metadata": {},
   "source": [
    "top 5 movies which earn highest profit."
   ]
  },
  {
   "cell_type": "code",
   "execution_count": 49,
   "id": "f280aebc",
   "metadata": {},
   "outputs": [],
   "source": [
    "x = list(data[:5])\n",
    "y = list(details['Profit'][:5])"
   ]
  },
  {
   "cell_type": "markdown",
   "id": "c981135d",
   "metadata": {},
   "source": [
    "using pointplot for top 5 profitable movies."
   ]
  },
  {
   "cell_type": "code",
   "execution_count": 50,
   "id": "623149b0",
   "metadata": {},
   "outputs": [
    {
     "data": {
      "image/png": "[encoded data removed]",
      "text/plain": [
       "<Figure size 720x360 with 1 Axes>"
      ]
     },
     "metadata": {},
     "output_type": "display_data"
    }
   ],
   "source": [
    "ax = sns.pointplot(x=y,y=x)\n",
    "sns.set(rc={'figure.figsize':(10,5)})\n",
    "ax.set_title(\"Top 10 Profitable Movies\",fontsize = 15)\n",
    "ax.set_xlabel(\"Profit\",fontsize = 13)\n",
    "sns.set_style(\"darkgrid\")"
   ]
  },
  {
   "cell_type": "markdown",
   "id": "2c77aa12",
   "metadata": {},
   "source": [
    "## Research Question 8:: Top 10 Production Companies produced higher number of release Movies?"
   ]
  },
  {
   "cell_type": "markdown",
   "id": "d3b1b14e",
   "metadata": {},
   "source": [
    "create function for spiliing and counting genres."
   ]
  },
  {
   "cell_type": "code",
   "execution_count": 51,
   "id": "097676ce",
   "metadata": {},
   "outputs": [],
   "source": [
    "def count_genre(x):\n",
    "    x_details = list(map(str,(df[x])))\n",
    "    modify_genre = []\n",
    "\n",
    "    for item in x_details:\n",
    "        temp = item.split('|')\n",
    "        if type(temp) == list:\n",
    "\n",
    "            for a in range(0, temp.__len__()):\n",
    "                asd = temp[a]\n",
    "                if x_details.__contains__(asd) and  asd != '0':\n",
    "                    modify_genre.append(asd)\n",
    "                    continue\n",
    "                elif x_details.__contains__(asd[:-1]) and asd != '0':\n",
    "                    modify_genre.append(asd[:-1])\n",
    "                    continue\n",
    "\n",
    "                else:\n",
    "                    continue\n",
    "\n",
    "        elif x_details.__contains__(temp) and  temp != '0':\n",
    "            modify_genre.append(temp)\n",
    "            continue\n",
    "        else:\n",
    "            continue\n",
    "\n",
    "\n",
    "    data = pd.Series(modify_genre)\n",
    "    #conts each of the genre and return.\n",
    "    details = data.value_counts(ascending=False)\n",
    "    return details"
   ]
  },
  {
   "cell_type": "markdown",
   "id": "4d2fab95",
   "metadata": {},
   "source": [
    "use 'count_genre' which I created to count number of movies released by each production company."
   ]
  },
  {
   "cell_type": "code",
   "execution_count": 52,
   "id": "98885e4e",
   "metadata": {},
   "outputs": [],
   "source": [
    "production_companies = count_genre('production_companies')"
   ]
  },
  {
   "cell_type": "markdown",
   "id": "86d36496",
   "metadata": {},
   "source": [
    "plot barh plot."
   ]
  },
  {
   "cell_type": "code",
   "execution_count": 53,
   "id": "23499e5c",
   "metadata": {},
   "outputs": [
    {
     "data": {
      "image/png": "[encoded data removed]",
      "text/plain": [
       "<Figure size 1152x576 with 1 Axes>"
      ]
     },
     "metadata": {},
     "output_type": "display_data"
    }
   ],
   "source": [
    "production_companies.iloc[:10].plot(kind='barh',figsize=(16,8),fontsize=13)\n",
    "plt.title(\"Production Companies Vs Number Of Movies\",fontsize=15)\n",
    "plt.xlabel('Number Of Movies',fontsize=14)\n",
    "sns.set_style(\"whitegrid\")\n"
   ]
  },
  {
   "cell_type": "markdown",
   "id": "ce90152c",
   "metadata": {},
   "source": [
    ">>From the plot we find out that the highest number of movie is created by 'Universal Pictures' , 'Warner Bros' and 'Paramount Pictures'"
   ]
  },
  {
   "cell_type": "markdown",
   "id": "0e7b2f10",
   "metadata": {},
   "source": [
    "### Research Question 9:: Top 10 Directors Who directs highest number of movies movies?"
   ]
  },
  {
   "cell_type": "markdown",
   "id": "4e1db7b4",
   "metadata": {},
   "source": [
    "use 'count_genre' function which we made earlier for spiliing and counting genres it will count number of movies directed by each diretor."
   ]
  },
  {
   "cell_type": "code",
   "execution_count": 54,
   "id": "b9bd2989",
   "metadata": {},
   "outputs": [],
   "source": [
    "director_movies_counter = count_genre('director')"
   ]
  },
  {
   "cell_type": "markdown",
   "id": "1dd5fe55",
   "metadata": {},
   "source": [
    "plot barh graph"
   ]
  },
  {
   "cell_type": "code",
   "execution_count": 56,
   "id": "9e25d062",
   "metadata": {
    "scrolled": true
   },
   "outputs": [
    {
     "data": {
      "image/png": "[encoded data removed]",
      "text/plain": [
       "<Figure size 936x432 with 1 Axes>"
      ]
     },
     "metadata": {},
     "output_type": "display_data"
    }
   ],
   "source": [
    "director_movies_counter.iloc[:10].plot(kind='bar',figsize=(13,6),fontsize=12)\n",
    "\n",
    "#setup the title and the labels\n",
    "plt.title(\"Director Vs Number Of Movies\",fontsize=15)\n",
    "plt.xticks(rotation=70)\n",
    "plt.ylabel(\"Number Of Movies\",fontsize= 13)\n",
    "sns.set_style(\"whitegrid\")"
   ]
  },
  {
   "cell_type": "markdown",
   "id": "2c29ff50",
   "metadata": {},
   "source": [
    ">>From this we can find the successful diroctor and the most popular."
   ]
  },
  {
   "cell_type": "markdown",
   "id": "a1e22d0f",
   "metadata": {},
   "source": [
    "### Research Question 10:: Most popular star cast?"
   ]
  },
  {
   "cell_type": "markdown",
   "id": "0075047d",
   "metadata": {},
   "source": [
    "use 'count_genre' function which we made earlier for spiliing and counting genres it wiil count number of movies done by each actor."
   ]
  },
  {
   "cell_type": "code",
   "execution_count": 57,
   "id": "af84048e",
   "metadata": {},
   "outputs": [],
   "source": [
    "actor_flims_counter = count_genre('cast')"
   ]
  },
  {
   "cell_type": "markdown",
   "id": "6af3f655",
   "metadata": {},
   "source": [
    "plot barh graph"
   ]
  },
  {
   "cell_type": "code",
   "execution_count": 58,
   "id": "ff59f32e",
   "metadata": {
    "scrolled": true
   },
   "outputs": [
    {
     "data": {
      "image/png": "[encoded data removed]",
      "text/plain": [
       "<Figure size 936x432 with 1 Axes>"
      ]
     },
     "metadata": {},
     "output_type": "display_data"
    }
   ],
   "source": [
    "actor_flims_counter.iloc[:10].plot.bar(figsize=(13,6),colormap='tab20c',fontsize=12)\n",
    "\n",
    "#setup the title and the labels of the plot.\n",
    "plt.title(\"Most Frequent Actor\",fontsize=15)\n",
    "plt.xticks(rotation = 50)\n",
    "plt.xlabel('Actor',fontsize=13)\n",
    "plt.ylabel(\"Number Of Movies\",fontsize= 13)\n",
    "sns.set_style(\"whitegrid\")"
   ]
  },
  {
   "cell_type": "markdown",
   "id": "27a19645",
   "metadata": {},
   "source": [
    ">>From this we can see the most 10 popular actors so we can decide which successful actor to make contract with him."
   ]
  },
  {
   "cell_type": "markdown",
   "id": "31879917",
   "metadata": {},
   "source": [
    "<a id='conclusions'></a>\n",
    "## Conclusions\n",
    "\n",
    "<ul>\n",
    "<li>Movies with higher budgets have shown a corresponding increase in the revenues.</li>\n",
    "<li>Maximum Number Of Movies Release In year 2014.</li>\n",
    "<li>'Avatar', 'Star Wars' and 'Titanic' are the most profitable movies and 'The Warrior's Way' is the lowest profitable movie.</li>       \n",
    "<li>Warner Bros, Universal Pictures and Paramount Pictures production companies earn more life time profit than other production companies.</li>    \n",
    "<li>'Woody Allen' and 'Clint Eastwood' the most directors Who directs highest number of movies movies</li> \n",
    "<li>'Robert De Niro' and 'Samuel L.Jackson' are the most popular star cast</li>    \n",
    "    \n",
    "</ul>\n",
    "\n",
    "### Limitations\n",
    "<ul>\n",
    "<li>It's not 100 percent guaranteed solution that this formula is gonna work, But it shows us that we have high probability of making high profits if we had similar characteristics as such.</li>\n",
    "<li> If we release a movie with these characteristics, it gives people high expectations from this movie.</li>\n",
    "<li> This was just one example of an influantial factor that would lead to different results, there are many that have to be taken care of.</li>    \n",
    "<li>During the data cleaning process, I split the data seperated by '|' into lists for easy parsing during the exploration phase.</li>\n",
    "<li> This increases the time taken in calculating the result.</li>    \n",
    "\n",
    "</ul>"
   ]
  },
  {
   "cell_type": "code",
   "execution_count": 307,
   "id": "efa7ec87",
   "metadata": {},
   "outputs": [
    {
     "data": {
      "text/plain": [
       "1"
      ]
     },
     "execution_count": 307,
     "metadata": {},
     "output_type": "execute_result"
    }
   ],
   "source": [
    "from subprocess import call\n",
    "call(['python', '-m', 'nbconvert', 'Investigate_a_Dataset.ipynb'])"
   ]
  },
  {
   "cell_type": "code",
   "execution_count": null,
   "id": "3e5a7f58",
   "metadata": {},
   "outputs": [],
   "source": []
  }
 ],
 "metadata": {
  "kernelspec": {
   "display_name": "Python 3 (ipykernel)",
   "language": "python",
   "name": "python3"
  },
  "language_info": {
   "codemirror_mode": {
    "name": "ipython",
    "version": 3
   },
   "file_extension": ".py",
   "mimetype": "text/x-python",
   "name": "python",
   "nbconvert_exporter": "python",
   "pygments_lexer": "ipython3",
   "version": "3.9.7"
  }
 },
 "nbformat": 4,
 "nbformat_minor": 5
}
